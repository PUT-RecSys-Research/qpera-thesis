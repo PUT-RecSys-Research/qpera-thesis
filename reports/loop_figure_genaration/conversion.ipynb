{
 "cells": [
  {
   "cell_type": "code",
   "execution_count": 3,
   "id": "ca8d3283",
   "metadata": {},
   "outputs": [
    {
     "name": "stdout",
     "output_type": "stream",
     "text": [
      "Zmieniono i zapisano: amazonsales_CBF_metrics.csv -> CBF_amazonsales_metrics.csv\n",
      "Zmieniono i zapisano: amazonsales_CF_metrics.csv -> CF_amazonsales_metrics.csv\n",
      "Zmieniono i zapisano: amazonsales_RL_metrics.csv -> RL_amazonsales_metrics.csv\n",
      "Zmieniono i zapisano: movielens_CBF_metrics.csv -> CBF_movielens_metrics.csv\n",
      "Zmieniono i zapisano: movielens_CF_metrics.csv -> CF_movielens_metrics.csv\n",
      "Zmieniono i zapisano: movielens_RL_metrics.csv -> RL_movielens_metrics.csv\n",
      "Zmieniono i zapisano: postrecommendations_CBF_metrics.csv -> CBF_postrecommendations_metrics.csv\n",
      "Zmieniono i zapisano: postrecommendations_CF_metrics.csv -> CF_postrecommendations_metrics.csv\n",
      "Zmieniono i zapisano: postrecommendations_RL_metrics.csv -> RL_postrecommendations_metrics.csv\n",
      "Gotowe!\n"
     ]
    }
   ],
   "source": [
    "import pandas as pd\n",
    "import os\n",
    "\n",
    "input_folder = \"privacy/no_mod_80/new_files\"   # <- Podaj ścieżkę\n",
    "output_folder = \"privacy/no_mod_80\"  # <- Podaj ścieżkę\n",
    "\n",
    "os.makedirs(output_folder, exist_ok=True)\n",
    "\n",
    "for filename in os.listdir(input_folder):\n",
    "    if filename.endswith(\".csv\"):\n",
    "        input_path = os.path.join(input_folder, filename)\n",
    "        \n",
    "        df = pd.read_csv(input_path)\n",
    "        \n",
    "        df_melted = pd.DataFrame({\n",
    "            \"key\": df.columns,\n",
    "            \"value\": df.iloc[0].values\n",
    "        })\n",
    "\n",
    "        parts = filename.replace(\".csv\", \"\").split(\"_\")\n",
    "        if len(parts) == 3:\n",
    "            new_filename = f\"{parts[1]}_{parts[0]}_{parts[2]}.csv\"\n",
    "        else:\n",
    "            new_filename = filename\n",
    "\n",
    "        output_path = os.path.join(output_folder, new_filename)\n",
    "        \n",
    "        df_melted.to_csv(output_path, index=False)\n",
    "        \n",
    "        print(f\"Zmieniono i zapisano: {filename} -> {new_filename}\")\n",
    "\n",
    "print(\"Gotowe!\")"
   ]
  }
 ],
 "metadata": {
  "kernelspec": {
   "display_name": "Python 3",
   "language": "python",
   "name": "python3"
  },
  "language_info": {
   "codemirror_mode": {
    "name": "ipython",
    "version": 3
   },
   "file_extension": ".py",
   "mimetype": "text/x-python",
   "name": "python",
   "nbconvert_exporter": "python",
   "pygments_lexer": "ipython3",
   "version": "3.11.0"
  }
 },
 "nbformat": 4,
 "nbformat_minor": 5
}
