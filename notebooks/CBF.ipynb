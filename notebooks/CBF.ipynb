{
    "cells": [
        {
            "cell_type": "markdown",
            "metadata": {},
            "source": [
                "<i>Copyright (c) Recommenders contributors.</i>\n",
                "\n",
                "<i>Licensed under the MIT License.</i>"
            ]
        },
        {
            "cell_type": "markdown",
            "metadata": {},
            "source": [
                "# TF-IDF Content-Based Recommendation\n"
            ]
        },
        {
            "cell_type": "code",
            "execution_count": 3,
            "metadata": {
                "scrolled": true
            },
            "outputs": [
                {
                    "name": "stderr",
                    "output_type": "stream",
                    "text": [
                        "c:\\Users\\julia\\anaconda3\\envs\\conda_python3.9\\lib\\site-packages\\tqdm\\auto.py:21: TqdmWarning: IProgress not found. Please update jupyter and ipywidgets. See https://ipywidgets.readthedocs.io/en/stable/user_install.html\n",
                        "  from .autonotebook import tqdm as notebook_tqdm\n"
                    ]
                },
                {
                    "name": "stdout",
                    "output_type": "stream",
                    "text": [
                        "System version: 3.9.21 (main, Dec 11 2024, 16:35:24) [MSC v.1929 64 bit (AMD64)]\n"
                    ]
                }
            ],
            "source": [
                "import sys\n",
                "import logging\n",
                "import scipy\n",
                "import numpy as np\n",
                "import pandas as pd\n",
                "import dataset_loader\n",
                "\n",
                "from recommenders.models.tfidf.tfidf_utils import TfidfRecommender\n",
                "from recommenders.datasets.python_splitters import python_stratified_split\n",
                "from recommenders.datasets import movielens\n",
                "from recommenders.evaluation.python_evaluation import map_at_k, ndcg_at_k, mae, rmse, novelty, historical_item_novelty, user_item_serendipity, user_serendipity, serendipity, catalog_coverage, distributional_coverage\n",
                "from metrics import precision_at_k, recall_at_k, mrr, accuracy, user_coverage, item_coverage\n",
                "\n",
                "# Print version\n",
                "print(f\"System version: {sys.version}\")"
            ]
        },
        {
            "cell_type": "markdown",
            "metadata": {},
            "source": [
                "### 1. Load the dataset into a dataframe\n",
                "Let's begin by loading the metadata file for the dataset into a Pandas dataframe. This file contains metadata about each of the scientific articles included in the full dataset."
            ]
        },
        {
            "cell_type": "code",
            "execution_count": 4,
            "metadata": {},
            "outputs": [],
            "source": [
                "# Top k items to recommend\n",
                "TOP_K = 10"
            ]
        },
        {
            "cell_type": "code",
            "execution_count": 5,
            "metadata": {},
            "outputs": [
                {
                    "name": "stdout",
                    "output_type": "stream",
                    "text": [
                        "(500000, 6)\n",
                        "3374\n"
                    ]
                },
                {
                    "data": {
                        "text/html": [
                            "<div>\n",
                            "<style scoped>\n",
                            "    .dataframe tbody tr th:only-of-type {\n",
                            "        vertical-align: middle;\n",
                            "    }\n",
                            "\n",
                            "    .dataframe tbody tr th {\n",
                            "        vertical-align: top;\n",
                            "    }\n",
                            "\n",
                            "    .dataframe thead th {\n",
                            "        text-align: right;\n",
                            "    }\n",
                            "</style>\n",
                            "<table border=\"1\" class=\"dataframe\">\n",
                            "  <thead>\n",
                            "    <tr style=\"text-align: right;\">\n",
                            "      <th></th>\n",
                            "      <th>userID</th>\n",
                            "      <th>itemID</th>\n",
                            "      <th>rating</th>\n",
                            "      <th>timestamp</th>\n",
                            "      <th>title</th>\n",
                            "      <th>genres</th>\n",
                            "    </tr>\n",
                            "  </thead>\n",
                            "  <tbody>\n",
                            "    <tr>\n",
                            "      <th>0</th>\n",
                            "      <td>1</td>\n",
                            "      <td>2</td>\n",
                            "      <td>3.5</td>\n",
                            "      <td>2005-04-02 23:53:47</td>\n",
                            "      <td>Jumanji (1995)</td>\n",
                            "      <td>Adventure|Children|Fantasy</td>\n",
                            "    </tr>\n",
                            "    <tr>\n",
                            "      <th>1</th>\n",
                            "      <td>1</td>\n",
                            "      <td>29</td>\n",
                            "      <td>3.5</td>\n",
                            "      <td>2005-04-02 23:31:16</td>\n",
                            "      <td>City of Lost Children, The (Cité des enfants p...</td>\n",
                            "      <td>Adventure|Drama|Fantasy|Mystery|Sci-Fi</td>\n",
                            "    </tr>\n",
                            "    <tr>\n",
                            "      <th>2</th>\n",
                            "      <td>1</td>\n",
                            "      <td>32</td>\n",
                            "      <td>3.5</td>\n",
                            "      <td>2005-04-02 23:33:39</td>\n",
                            "      <td>Twelve Monkeys (a.k.a. 12 Monkeys) (1995)</td>\n",
                            "      <td>Mystery|Sci-Fi|Thriller</td>\n",
                            "    </tr>\n",
                            "    <tr>\n",
                            "      <th>3</th>\n",
                            "      <td>1</td>\n",
                            "      <td>47</td>\n",
                            "      <td>3.5</td>\n",
                            "      <td>2005-04-02 23:32:07</td>\n",
                            "      <td>Seven (a.k.a. Se7en) (1995)</td>\n",
                            "      <td>Mystery|Thriller</td>\n",
                            "    </tr>\n",
                            "    <tr>\n",
                            "      <th>4</th>\n",
                            "      <td>1</td>\n",
                            "      <td>50</td>\n",
                            "      <td>3.5</td>\n",
                            "      <td>2005-04-02 23:29:40</td>\n",
                            "      <td>Usual Suspects, The (1995)</td>\n",
                            "      <td>Crime|Mystery|Thriller</td>\n",
                            "    </tr>\n",
                            "  </tbody>\n",
                            "</table>\n",
                            "</div>"
                        ],
                        "text/plain": [
                            "   userID  itemID  rating            timestamp  \\\n",
                            "0       1       2     3.5  2005-04-02 23:53:47   \n",
                            "1       1      29     3.5  2005-04-02 23:31:16   \n",
                            "2       1      32     3.5  2005-04-02 23:33:39   \n",
                            "3       1      47     3.5  2005-04-02 23:32:07   \n",
                            "4       1      50     3.5  2005-04-02 23:29:40   \n",
                            "\n",
                            "                                               title  \\\n",
                            "0                                     Jumanji (1995)   \n",
                            "1  City of Lost Children, The (Cité des enfants p...   \n",
                            "2          Twelve Monkeys (a.k.a. 12 Monkeys) (1995)   \n",
                            "3                        Seven (a.k.a. Se7en) (1995)   \n",
                            "4                         Usual Suspects, The (1995)   \n",
                            "\n",
                            "                                   genres  \n",
                            "0              Adventure|Children|Fantasy  \n",
                            "1  Adventure|Drama|Fantasy|Mystery|Sci-Fi  \n",
                            "2                 Mystery|Sci-Fi|Thriller  \n",
                            "3                        Mystery|Thriller  \n",
                            "4                  Crime|Mystery|Thriller  "
                        ]
                    },
                    "execution_count": 5,
                    "metadata": {},
                    "output_type": "execute_result"
                }
            ],
            "source": [
                "data = dataset_loader.loader(\"movielens\", want_col=[\"userID\", \"itemID\", \"rating\", \"timestamp\", 'title', 'genres'], num_rows=500000)\n",
                "print(data.shape)\n",
                "print(data['userID'].nunique())\n",
                "\n",
                "# Convert the float precision to 32-bit in order to reduce memory consumption\n",
                "data[\"rating\"] = data[\"rating\"].astype(np.float32)\n",
                "data.head()\n"
            ]
        },
        {
            "cell_type": "markdown",
            "metadata": {},
            "source": [
                "### 4. Instantiate the recommender\n",
                "All functions for data preparation and recommendation are contained within the **TfidfRecommender** class we have imported. Prior to running these functions, we must create an object of this class.\n",
                "\n",
                "Select one of the following tokenization methods to use in the model:\n",
                "\n",
                "| tokenization_method | Description                                                                                                                      |\n",
                "|:--------------------|:---------------------------------------------------------------------------------------------------------------------------------|\n",
                "| 'none'              | No tokenization is applied. Each word is considered a token.                                                                     |\n",
                "| 'nltk'              | Simple stemming is applied using NLTK.                                                                                           |\n",
                "| 'bert'              | HuggingFace BERT word tokenization ('bert-base-cased') is applied.                                                               |\n",
                "| 'scibert'           | SciBERT word tokenization ('allenai/scibert_scivocab_cased') is applied.<br>This is recommended for scientific journal articles. |"
            ]
        },
        {
            "cell_type": "code",
            "execution_count": 6,
            "metadata": {},
            "outputs": [],
            "source": [
                "# Create the recommender object\n",
                "recommender = TfidfRecommender(id_col='itemID', tokenization_method='bert')"
            ]
        },
        {
            "cell_type": "markdown",
            "metadata": {},
            "source": [
                "### 5. Prepare text for use in the TF-IDF recommender"
            ]
        },
        {
            "cell_type": "code",
            "execution_count": 7,
            "metadata": {},
            "outputs": [
                {
                    "data": {
                        "text/html": [
                            "<div>\n",
                            "<style scoped>\n",
                            "    .dataframe tbody tr th:only-of-type {\n",
                            "        vertical-align: middle;\n",
                            "    }\n",
                            "\n",
                            "    .dataframe tbody tr th {\n",
                            "        vertical-align: top;\n",
                            "    }\n",
                            "\n",
                            "    .dataframe thead th {\n",
                            "        text-align: right;\n",
                            "    }\n",
                            "</style>\n",
                            "<table border=\"1\" class=\"dataframe\">\n",
                            "  <thead>\n",
                            "    <tr style=\"text-align: right;\">\n",
                            "      <th></th>\n",
                            "      <th>userID</th>\n",
                            "      <th>itemID</th>\n",
                            "      <th>rating</th>\n",
                            "      <th>timestamp</th>\n",
                            "      <th>title</th>\n",
                            "      <th>genres</th>\n",
                            "    </tr>\n",
                            "  </thead>\n",
                            "  <tbody>\n",
                            "    <tr>\n",
                            "      <th>0</th>\n",
                            "      <td>1</td>\n",
                            "      <td>2</td>\n",
                            "      <td>3.5</td>\n",
                            "      <td>2005-04-02 23:53:47</td>\n",
                            "      <td>Jumanji (1995)</td>\n",
                            "      <td>Adventure Children Fantasy</td>\n",
                            "    </tr>\n",
                            "    <tr>\n",
                            "      <th>1</th>\n",
                            "      <td>1</td>\n",
                            "      <td>29</td>\n",
                            "      <td>3.5</td>\n",
                            "      <td>2005-04-02 23:31:16</td>\n",
                            "      <td>City of Lost Children, The (Cité des enfants p...</td>\n",
                            "      <td>Adventure Drama Fantasy Mystery Sci-Fi</td>\n",
                            "    </tr>\n",
                            "    <tr>\n",
                            "      <th>2</th>\n",
                            "      <td>1</td>\n",
                            "      <td>32</td>\n",
                            "      <td>3.5</td>\n",
                            "      <td>2005-04-02 23:33:39</td>\n",
                            "      <td>Twelve Monkeys (a.k.a. 12 Monkeys) (1995)</td>\n",
                            "      <td>Mystery Sci-Fi Thriller</td>\n",
                            "    </tr>\n",
                            "    <tr>\n",
                            "      <th>3</th>\n",
                            "      <td>1</td>\n",
                            "      <td>47</td>\n",
                            "      <td>3.5</td>\n",
                            "      <td>2005-04-02 23:32:07</td>\n",
                            "      <td>Seven (a.k.a. Se7en) (1995)</td>\n",
                            "      <td>Mystery Thriller</td>\n",
                            "    </tr>\n",
                            "    <tr>\n",
                            "      <th>4</th>\n",
                            "      <td>1</td>\n",
                            "      <td>50</td>\n",
                            "      <td>3.5</td>\n",
                            "      <td>2005-04-02 23:29:40</td>\n",
                            "      <td>Usual Suspects, The (1995)</td>\n",
                            "      <td>Crime Mystery Thriller</td>\n",
                            "    </tr>\n",
                            "  </tbody>\n",
                            "</table>\n",
                            "</div>"
                        ],
                        "text/plain": [
                            "   userID  itemID  rating            timestamp  \\\n",
                            "0       1       2     3.5  2005-04-02 23:53:47   \n",
                            "1       1      29     3.5  2005-04-02 23:31:16   \n",
                            "2       1      32     3.5  2005-04-02 23:33:39   \n",
                            "3       1      47     3.5  2005-04-02 23:32:07   \n",
                            "4       1      50     3.5  2005-04-02 23:29:40   \n",
                            "\n",
                            "                                               title  \\\n",
                            "0                                     Jumanji (1995)   \n",
                            "1  City of Lost Children, The (Cité des enfants p...   \n",
                            "2          Twelve Monkeys (a.k.a. 12 Monkeys) (1995)   \n",
                            "3                        Seven (a.k.a. Se7en) (1995)   \n",
                            "4                         Usual Suspects, The (1995)   \n",
                            "\n",
                            "                                   genres  \n",
                            "0              Adventure Children Fantasy  \n",
                            "1  Adventure Drama Fantasy Mystery Sci-Fi  \n",
                            "2                 Mystery Sci-Fi Thriller  \n",
                            "3                        Mystery Thriller  \n",
                            "4                  Crime Mystery Thriller  "
                        ]
                    },
                    "execution_count": 7,
                    "metadata": {},
                    "output_type": "execute_result"
                }
            ],
            "source": [
                "data['genres'] = data['genres'].str.replace('|', ' ', regex=False)\n",
                "data.head()"
            ]
        },
        {
            "cell_type": "code",
            "execution_count": 8,
            "metadata": {},
            "outputs": [
                {
                    "data": {
                        "text/html": [
                            "<div>\n",
                            "<style scoped>\n",
                            "    .dataframe tbody tr th:only-of-type {\n",
                            "        vertical-align: middle;\n",
                            "    }\n",
                            "\n",
                            "    .dataframe tbody tr th {\n",
                            "        vertical-align: top;\n",
                            "    }\n",
                            "\n",
                            "    .dataframe thead th {\n",
                            "        text-align: right;\n",
                            "    }\n",
                            "</style>\n",
                            "<table border=\"1\" class=\"dataframe\">\n",
                            "  <thead>\n",
                            "    <tr style=\"text-align: right;\">\n",
                            "      <th></th>\n",
                            "      <th>itemID</th>\n",
                            "      <th>title</th>\n",
                            "      <th>genres</th>\n",
                            "      <th>cleaned_text</th>\n",
                            "    </tr>\n",
                            "  </thead>\n",
                            "  <tbody>\n",
                            "    <tr>\n",
                            "      <th>0</th>\n",
                            "      <td>2</td>\n",
                            "      <td>Jumanji (1995)</td>\n",
                            "      <td>Adventure Children Fantasy</td>\n",
                            "      <td>Jumanji 1995 Adventure Children Fantasy</td>\n",
                            "    </tr>\n",
                            "    <tr>\n",
                            "      <th>1</th>\n",
                            "      <td>29</td>\n",
                            "      <td>City of Lost Children, The (Cité des enfants p...</td>\n",
                            "      <td>Adventure Drama Fantasy Mystery Sci-Fi</td>\n",
                            "      <td>City of Lost Children The Cité des enfants per...</td>\n",
                            "    </tr>\n",
                            "    <tr>\n",
                            "      <th>2</th>\n",
                            "      <td>32</td>\n",
                            "      <td>Twelve Monkeys (a.k.a. 12 Monkeys) (1995)</td>\n",
                            "      <td>Mystery Sci-Fi Thriller</td>\n",
                            "      <td>Twelve Monkeys aka 12 Monkeys 1995 Mystery Sci...</td>\n",
                            "    </tr>\n",
                            "    <tr>\n",
                            "      <th>3</th>\n",
                            "      <td>47</td>\n",
                            "      <td>Seven (a.k.a. Se7en) (1995)</td>\n",
                            "      <td>Mystery Thriller</td>\n",
                            "      <td>Seven aka Se7en 1995 Mystery Thriller</td>\n",
                            "    </tr>\n",
                            "    <tr>\n",
                            "      <th>4</th>\n",
                            "      <td>50</td>\n",
                            "      <td>Usual Suspects, The (1995)</td>\n",
                            "      <td>Crime Mystery Thriller</td>\n",
                            "      <td>Usual Suspects The 1995 Crime Mystery Thriller</td>\n",
                            "    </tr>\n",
                            "  </tbody>\n",
                            "</table>\n",
                            "</div>"
                        ],
                        "text/plain": [
                            "   itemID                                              title  \\\n",
                            "0       2                                     Jumanji (1995)   \n",
                            "1      29  City of Lost Children, The (Cité des enfants p...   \n",
                            "2      32          Twelve Monkeys (a.k.a. 12 Monkeys) (1995)   \n",
                            "3      47                        Seven (a.k.a. Se7en) (1995)   \n",
                            "4      50                         Usual Suspects, The (1995)   \n",
                            "\n",
                            "                                   genres  \\\n",
                            "0              Adventure Children Fantasy   \n",
                            "1  Adventure Drama Fantasy Mystery Sci-Fi   \n",
                            "2                 Mystery Sci-Fi Thriller   \n",
                            "3                        Mystery Thriller   \n",
                            "4                  Crime Mystery Thriller   \n",
                            "\n",
                            "                                        cleaned_text  \n",
                            "0            Jumanji 1995 Adventure Children Fantasy  \n",
                            "1  City of Lost Children The Cité des enfants per...  \n",
                            "2  Twelve Monkeys aka 12 Monkeys 1995 Mystery Sci...  \n",
                            "3              Seven aka Se7en 1995 Mystery Thriller  \n",
                            "4     Usual Suspects The 1995 Crime Mystery Thriller  "
                        ]
                    },
                    "execution_count": 8,
                    "metadata": {},
                    "output_type": "execute_result"
                }
            ],
            "source": [
                "df_clean = data.drop(columns=['userID', 'rating', 'timestamp'])\n",
                "df_clean = df_clean.drop_duplicates(subset=['itemID'])\n",
                "cols_to_clean = ['title','genres']\n",
                "clean_col = 'cleaned_text'\n",
                "df_clean = recommender.clean_dataframe(df_clean, cols_to_clean, clean_col)\n",
                "df_clean.head()"
            ]
        },
        {
            "cell_type": "code",
            "execution_count": 9,
            "metadata": {},
            "outputs": [
                {
                    "data": {
                        "text/plain": [
                            "12277"
                        ]
                    },
                    "execution_count": 9,
                    "metadata": {},
                    "output_type": "execute_result"
                }
            ],
            "source": [
                "len(df_clean)"
            ]
        },
        {
            "cell_type": "code",
            "execution_count": 10,
            "metadata": {},
            "outputs": [
                {
                    "data": {
                        "text/html": [
                            "<div>\n",
                            "<style scoped>\n",
                            "    .dataframe tbody tr th:only-of-type {\n",
                            "        vertical-align: middle;\n",
                            "    }\n",
                            "\n",
                            "    .dataframe tbody tr th {\n",
                            "        vertical-align: top;\n",
                            "    }\n",
                            "\n",
                            "    .dataframe thead th {\n",
                            "        text-align: right;\n",
                            "    }\n",
                            "</style>\n",
                            "<table border=\"1\" class=\"dataframe\">\n",
                            "  <thead>\n",
                            "    <tr style=\"text-align: right;\">\n",
                            "      <th></th>\n",
                            "      <th>itemID</th>\n",
                            "      <th>title</th>\n",
                            "      <th>genres</th>\n",
                            "      <th>cleaned_text</th>\n",
                            "    </tr>\n",
                            "  </thead>\n",
                            "  <tbody>\n",
                            "    <tr>\n",
                            "      <th>0</th>\n",
                            "      <td>2</td>\n",
                            "      <td>Jumanji (1995)</td>\n",
                            "      <td>Adventure Children Fantasy</td>\n",
                            "      <td>Jumanji 1995 Adventure Children Fantasy</td>\n",
                            "    </tr>\n",
                            "    <tr>\n",
                            "      <th>1</th>\n",
                            "      <td>29</td>\n",
                            "      <td>City of Lost Children, The (Cité des enfants p...</td>\n",
                            "      <td>Adventure Drama Fantasy Mystery Sci-Fi</td>\n",
                            "      <td>City of Lost Children The Cité des enfants per...</td>\n",
                            "    </tr>\n",
                            "    <tr>\n",
                            "      <th>2</th>\n",
                            "      <td>32</td>\n",
                            "      <td>Twelve Monkeys (a.k.a. 12 Monkeys) (1995)</td>\n",
                            "      <td>Mystery Sci-Fi Thriller</td>\n",
                            "      <td>Twelve Monkeys aka 12 Monkeys 1995 Mystery Sci...</td>\n",
                            "    </tr>\n",
                            "    <tr>\n",
                            "      <th>3</th>\n",
                            "      <td>47</td>\n",
                            "      <td>Seven (a.k.a. Se7en) (1995)</td>\n",
                            "      <td>Mystery Thriller</td>\n",
                            "      <td>Seven aka Se7en 1995 Mystery Thriller</td>\n",
                            "    </tr>\n",
                            "    <tr>\n",
                            "      <th>4</th>\n",
                            "      <td>50</td>\n",
                            "      <td>Usual Suspects, The (1995)</td>\n",
                            "      <td>Crime Mystery Thriller</td>\n",
                            "      <td>Usual Suspects The 1995 Crime Mystery Thriller</td>\n",
                            "    </tr>\n",
                            "  </tbody>\n",
                            "</table>\n",
                            "</div>"
                        ],
                        "text/plain": [
                            "   itemID                                              title  \\\n",
                            "0       2                                     Jumanji (1995)   \n",
                            "1      29  City of Lost Children, The (Cité des enfants p...   \n",
                            "2      32          Twelve Monkeys (a.k.a. 12 Monkeys) (1995)   \n",
                            "3      47                        Seven (a.k.a. Se7en) (1995)   \n",
                            "4      50                         Usual Suspects, The (1995)   \n",
                            "\n",
                            "                                   genres  \\\n",
                            "0              Adventure Children Fantasy   \n",
                            "1  Adventure Drama Fantasy Mystery Sci-Fi   \n",
                            "2                 Mystery Sci-Fi Thriller   \n",
                            "3                        Mystery Thriller   \n",
                            "4                  Crime Mystery Thriller   \n",
                            "\n",
                            "                                        cleaned_text  \n",
                            "0            Jumanji 1995 Adventure Children Fantasy  \n",
                            "1  City of Lost Children The Cité des enfants per...  \n",
                            "2  Twelve Monkeys aka 12 Monkeys 1995 Mystery Sci...  \n",
                            "3              Seven aka Se7en 1995 Mystery Thriller  \n",
                            "4     Usual Suspects The 1995 Crime Mystery Thriller  "
                        ]
                    },
                    "execution_count": 10,
                    "metadata": {},
                    "output_type": "execute_result"
                }
            ],
            "source": [
                "df_clean = df_clean.reset_index(drop=True)\n",
                "df_clean.head()"
            ]
        },
        {
            "cell_type": "code",
            "execution_count": 11,
            "metadata": {},
            "outputs": [],
            "source": [
                "header = {\n",
                "    \"col_user\": \"userID\",\n",
                "    \"col_item\": \"itemID\",\n",
                "    \"col_rating\": \"rating\",\n",
                "    \"col_timestamp\": \"timestamp\",\n",
                "    \"col_title\": \"title\",\n",
                "    \"col_genres\": \"genres\",\n",
                "    \"col_year\": \"year\",\n",
                "    \"col_prediction\": \"prediction\",\n",
                "}"
            ]
        },
        {
            "cell_type": "code",
            "execution_count": 12,
            "metadata": {},
            "outputs": [],
            "source": [
                "train, test = python_stratified_split(\n",
                "    data, ratio=0.75, col_user=header[\"col_user\"], col_item=header[\"col_item\"], seed=42\n",
                ")"
            ]
        },
        {
            "cell_type": "code",
            "execution_count": 13,
            "metadata": {},
            "outputs": [
                {
                    "data": {
                        "text/html": [
                            "<div>\n",
                            "<style scoped>\n",
                            "    .dataframe tbody tr th:only-of-type {\n",
                            "        vertical-align: middle;\n",
                            "    }\n",
                            "\n",
                            "    .dataframe tbody tr th {\n",
                            "        vertical-align: top;\n",
                            "    }\n",
                            "\n",
                            "    .dataframe thead th {\n",
                            "        text-align: right;\n",
                            "    }\n",
                            "</style>\n",
                            "<table border=\"1\" class=\"dataframe\">\n",
                            "  <thead>\n",
                            "    <tr style=\"text-align: right;\">\n",
                            "      <th></th>\n",
                            "      <th>userID</th>\n",
                            "      <th>itemID</th>\n",
                            "      <th>rating</th>\n",
                            "      <th>timestamp</th>\n",
                            "      <th>title</th>\n",
                            "      <th>genres</th>\n",
                            "      <th>cleaned_text</th>\n",
                            "    </tr>\n",
                            "  </thead>\n",
                            "  <tbody>\n",
                            "    <tr>\n",
                            "      <th>72</th>\n",
                            "      <td>1</td>\n",
                            "      <td>2140</td>\n",
                            "      <td>4.0</td>\n",
                            "      <td>2005-04-02 23:48:25</td>\n",
                            "      <td>Dark Crystal, The (1982)</td>\n",
                            "      <td>Adventure Fantasy</td>\n",
                            "      <td>Dark Crystal The 1982 Adventure Fantasy</td>\n",
                            "    </tr>\n",
                            "    <tr>\n",
                            "      <th>128</th>\n",
                            "      <td>1</td>\n",
                            "      <td>4915</td>\n",
                            "      <td>3.0</td>\n",
                            "      <td>2005-04-02 23:54:36</td>\n",
                            "      <td>Beastmaster, The (1982)</td>\n",
                            "      <td>Action Adventure Fantasy</td>\n",
                            "      <td>Beastmaster The 1982 Action Adventure Fantasy</td>\n",
                            "    </tr>\n",
                            "    <tr>\n",
                            "      <th>171</th>\n",
                            "      <td>1</td>\n",
                            "      <td>8636</td>\n",
                            "      <td>4.5</td>\n",
                            "      <td>2005-04-02 23:44:53</td>\n",
                            "      <td>Spider-Man 2 (2004)</td>\n",
                            "      <td>Action Adventure Sci-Fi IMAX</td>\n",
                            "      <td>SpiderMan 2 2004 Action Adventure SciFi IMAX</td>\n",
                            "    </tr>\n",
                            "    <tr>\n",
                            "      <th>10</th>\n",
                            "      <td>1</td>\n",
                            "      <td>293</td>\n",
                            "      <td>4.0</td>\n",
                            "      <td>2005-04-02 23:31:43</td>\n",
                            "      <td>Léon: The Professional (a.k.a. The Professiona...</td>\n",
                            "      <td>Action Crime Drama Thriller</td>\n",
                            "      <td>Léon The Professional aka The Professional Léo...</td>\n",
                            "    </tr>\n",
                            "    <tr>\n",
                            "      <th>98</th>\n",
                            "      <td>1</td>\n",
                            "      <td>3000</td>\n",
                            "      <td>3.5</td>\n",
                            "      <td>2005-04-02 23:29:29</td>\n",
                            "      <td>Princess Mononoke (Mononoke-hime) (1997)</td>\n",
                            "      <td>Action Adventure Animation Drama Fantasy</td>\n",
                            "      <td>Princess Mononoke Mononokehime 1997 Action Adv...</td>\n",
                            "    </tr>\n",
                            "  </tbody>\n",
                            "</table>\n",
                            "</div>"
                        ],
                        "text/plain": [
                            "     userID  itemID  rating            timestamp  \\\n",
                            "72        1    2140     4.0  2005-04-02 23:48:25   \n",
                            "128       1    4915     3.0  2005-04-02 23:54:36   \n",
                            "171       1    8636     4.5  2005-04-02 23:44:53   \n",
                            "10        1     293     4.0  2005-04-02 23:31:43   \n",
                            "98        1    3000     3.5  2005-04-02 23:29:29   \n",
                            "\n",
                            "                                                 title  \\\n",
                            "72                            Dark Crystal, The (1982)   \n",
                            "128                            Beastmaster, The (1982)   \n",
                            "171                                Spider-Man 2 (2004)   \n",
                            "10   Léon: The Professional (a.k.a. The Professiona...   \n",
                            "98            Princess Mononoke (Mononoke-hime) (1997)   \n",
                            "\n",
                            "                                       genres  \\\n",
                            "72                          Adventure Fantasy   \n",
                            "128                  Action Adventure Fantasy   \n",
                            "171              Action Adventure Sci-Fi IMAX   \n",
                            "10                Action Crime Drama Thriller   \n",
                            "98   Action Adventure Animation Drama Fantasy   \n",
                            "\n",
                            "                                          cleaned_text  \n",
                            "72             Dark Crystal The 1982 Adventure Fantasy  \n",
                            "128      Beastmaster The 1982 Action Adventure Fantasy  \n",
                            "171       SpiderMan 2 2004 Action Adventure SciFi IMAX  \n",
                            "10   Léon The Professional aka The Professional Léo...  \n",
                            "98   Princess Mononoke Mononokehime 1997 Action Adv...  "
                        ]
                    },
                    "execution_count": 13,
                    "metadata": {},
                    "output_type": "execute_result"
                }
            ],
            "source": [
                "train = recommender.clean_dataframe(train, cols_to_clean, clean_col)\n",
                "train.head()"
            ]
        },
        {
            "cell_type": "markdown",
            "metadata": {},
            "source": [
                "Let's also tokenize the cleaned text for use in the TF-IDF model. The tokens are stored within our TfidfRecommender object."
            ]
        },
        {
            "cell_type": "code",
            "execution_count": 14,
            "metadata": {},
            "outputs": [],
            "source": [
                "# Tokenize text with tokenization_method specified in class instantiation\n",
                "tf, vectors_tokenized = recommender.tokenize_text(df_clean, text_col=\"cleaned_text\")"
            ]
        },
        {
            "cell_type": "markdown",
            "metadata": {},
            "source": [
                "### 6. Recommend articles using TF-IDF\n",
                "Let's now fit the recommender model to the processed data (tokens) and retrieve the top k recommended articles.\n",
                "\n",
                "When creating our object, we specified k=5 so the `recommend_top_k_items` function will return the top 5 recommendations for each public domain article."
            ]
        },
        {
            "cell_type": "code",
            "execution_count": 15,
            "metadata": {
                "scrolled": true
            },
            "outputs": [
                {
                    "name": "stdout",
                    "output_type": "stream",
                    "text": [
                        "['ju', 'man', 'ji', '1995', 'adventure', 'children', 'fantasy', 'ju man', 'man ji', 'ji 1995']\n"
                    ]
                }
            ],
            "source": [
                "# Fit the TF-IDF vectorizer\n",
                "recommender.fit(tf, vectors_tokenized)\n",
                "tokens = recommender.get_tokens()\n",
                "print(list(tokens.keys())[:10])\n"
            ]
        },
        {
            "cell_type": "code",
            "execution_count": 16,
            "metadata": {},
            "outputs": [
                {
                    "data": {
                        "text/plain": [
                            "78314"
                        ]
                    },
                    "execution_count": 16,
                    "metadata": {},
                    "output_type": "execute_result"
                }
            ],
            "source": [
                "len(tokens)"
            ]
        },
        {
            "cell_type": "code",
            "execution_count": 17,
            "metadata": {},
            "outputs": [
                {
                    "data": {
                        "text/html": [
                            "<div>\n",
                            "<style scoped>\n",
                            "    .dataframe tbody tr th:only-of-type {\n",
                            "        vertical-align: middle;\n",
                            "    }\n",
                            "\n",
                            "    .dataframe tbody tr th {\n",
                            "        vertical-align: top;\n",
                            "    }\n",
                            "\n",
                            "    .dataframe thead th {\n",
                            "        text-align: right;\n",
                            "    }\n",
                            "</style>\n",
                            "<table border=\"1\" class=\"dataframe\">\n",
                            "  <thead>\n",
                            "    <tr style=\"text-align: right;\">\n",
                            "      <th></th>\n",
                            "      <th>itemID</th>\n",
                            "      <th>rec_rank</th>\n",
                            "      <th>rec_score</th>\n",
                            "      <th>rec_itemID</th>\n",
                            "    </tr>\n",
                            "  </thead>\n",
                            "  <tbody>\n",
                            "    <tr>\n",
                            "      <th>2166</th>\n",
                            "      <td>252</td>\n",
                            "      <td>2</td>\n",
                            "      <td>1.000000</td>\n",
                            "      <td>289</td>\n",
                            "    </tr>\n",
                            "    <tr>\n",
                            "      <th>60590</th>\n",
                            "      <td>78116</td>\n",
                            "      <td>1</td>\n",
                            "      <td>1.000000</td>\n",
                            "      <td>78116</td>\n",
                            "    </tr>\n",
                            "    <tr>\n",
                            "      <th>9446</th>\n",
                            "      <td>289</td>\n",
                            "      <td>2</td>\n",
                            "      <td>1.000000</td>\n",
                            "      <td>289</td>\n",
                            "    </tr>\n",
                            "    <tr>\n",
                            "      <th>40415</th>\n",
                            "      <td>6293</td>\n",
                            "      <td>1</td>\n",
                            "      <td>1.000000</td>\n",
                            "      <td>6293</td>\n",
                            "    </tr>\n",
                            "    <tr>\n",
                            "      <th>34130</th>\n",
                            "      <td>33838</td>\n",
                            "      <td>1</td>\n",
                            "      <td>1.000000</td>\n",
                            "      <td>33838</td>\n",
                            "    </tr>\n",
                            "    <tr>\n",
                            "      <th>...</th>\n",
                            "      <td>...</td>\n",
                            "      <td>...</td>\n",
                            "      <td>...</td>\n",
                            "      <td>...</td>\n",
                            "    </tr>\n",
                            "    <tr>\n",
                            "      <th>49007</th>\n",
                            "      <td>6226</td>\n",
                            "      <td>3</td>\n",
                            "      <td>0.050660</td>\n",
                            "      <td>6781</td>\n",
                            "    </tr>\n",
                            "    <tr>\n",
                            "      <th>49008</th>\n",
                            "      <td>6226</td>\n",
                            "      <td>4</td>\n",
                            "      <td>0.050313</td>\n",
                            "      <td>92427</td>\n",
                            "    </tr>\n",
                            "    <tr>\n",
                            "      <th>49009</th>\n",
                            "      <td>6226</td>\n",
                            "      <td>5</td>\n",
                            "      <td>0.049677</td>\n",
                            "      <td>27563</td>\n",
                            "    </tr>\n",
                            "    <tr>\n",
                            "      <th>60168</th>\n",
                            "      <td>66019</td>\n",
                            "      <td>4</td>\n",
                            "      <td>0.046999</td>\n",
                            "      <td>2714</td>\n",
                            "    </tr>\n",
                            "    <tr>\n",
                            "      <th>60169</th>\n",
                            "      <td>66019</td>\n",
                            "      <td>5</td>\n",
                            "      <td>0.046809</td>\n",
                            "      <td>7178</td>\n",
                            "    </tr>\n",
                            "  </tbody>\n",
                            "</table>\n",
                            "<p>61385 rows × 4 columns</p>\n",
                            "</div>"
                        ],
                        "text/plain": [
                            "       itemID  rec_rank  rec_score  rec_itemID\n",
                            "2166      252         2   1.000000         289\n",
                            "60590   78116         1   1.000000       78116\n",
                            "9446      289         2   1.000000         289\n",
                            "40415    6293         1   1.000000        6293\n",
                            "34130   33838         1   1.000000       33838\n",
                            "...       ...       ...        ...         ...\n",
                            "49007    6226         3   0.050660        6781\n",
                            "49008    6226         4   0.050313       92427\n",
                            "49009    6226         5   0.049677       27563\n",
                            "60168   66019         4   0.046999        2714\n",
                            "60169   66019         5   0.046809        7178\n",
                            "\n",
                            "[61385 rows x 4 columns]"
                        ]
                    },
                    "execution_count": 17,
                    "metadata": {},
                    "output_type": "execute_result"
                }
            ],
            "source": [
                "top_k_items = recommender.recommend_top_k_items(df_clean, k=5)\n",
                "top_k_items.sort_values(\"rec_score\", ascending=False)"
            ]
        },
        {
            "cell_type": "code",
            "execution_count": 18,
            "metadata": {},
            "outputs": [
                {
                    "name": "stderr",
                    "output_type": "stream",
                    "text": [
                        "C:\\Users\\julia\\AppData\\Local\\Temp\\ipykernel_11420\\892789179.py:4: SettingWithCopyWarning: \n",
                        "A value is trying to be set on a copy of a slice from a DataFrame\n",
                        "\n",
                        "See the caveats in the documentation: https://pandas.pydata.org/pandas-docs/stable/user_guide/indexing.html#returning-a-view-versus-a-copy\n",
                        "  top_k.rename(columns={'rec_itemID': 'itemID'}, inplace=True)\n"
                    ]
                },
                {
                    "data": {
                        "text/html": [
                            "<div>\n",
                            "<style scoped>\n",
                            "    .dataframe tbody tr th:only-of-type {\n",
                            "        vertical-align: middle;\n",
                            "    }\n",
                            "\n",
                            "    .dataframe tbody tr th {\n",
                            "        vertical-align: top;\n",
                            "    }\n",
                            "\n",
                            "    .dataframe thead th {\n",
                            "        text-align: right;\n",
                            "    }\n",
                            "</style>\n",
                            "<table border=\"1\" class=\"dataframe\">\n",
                            "  <thead>\n",
                            "    <tr style=\"text-align: right;\">\n",
                            "      <th></th>\n",
                            "      <th>userID</th>\n",
                            "      <th>itemID</th>\n",
                            "      <th>prediction</th>\n",
                            "    </tr>\n",
                            "  </thead>\n",
                            "  <tbody>\n",
                            "    <tr>\n",
                            "      <th>450</th>\n",
                            "      <td>1</td>\n",
                            "      <td>3795</td>\n",
                            "      <td>2.482931</td>\n",
                            "    </tr>\n",
                            "    <tr>\n",
                            "      <th>345</th>\n",
                            "      <td>1</td>\n",
                            "      <td>8610</td>\n",
                            "      <td>2.425761</td>\n",
                            "    </tr>\n",
                            "    <tr>\n",
                            "      <th>615</th>\n",
                            "      <td>1</td>\n",
                            "      <td>107997</td>\n",
                            "      <td>2.146685</td>\n",
                            "    </tr>\n",
                            "    <tr>\n",
                            "      <th>240</th>\n",
                            "      <td>1</td>\n",
                            "      <td>6461</td>\n",
                            "      <td>2.138972</td>\n",
                            "    </tr>\n",
                            "    <tr>\n",
                            "      <th>595</th>\n",
                            "      <td>1</td>\n",
                            "      <td>4886</td>\n",
                            "      <td>2.026795</td>\n",
                            "    </tr>\n",
                            "  </tbody>\n",
                            "</table>\n",
                            "</div>"
                        ],
                        "text/plain": [
                            "     userID  itemID  prediction\n",
                            "450       1    3795    2.482931\n",
                            "345       1    8610    2.425761\n",
                            "615       1  107997    2.146685\n",
                            "240       1    6461    2.138972\n",
                            "595       1    4886    2.026795"
                        ]
                    },
                    "execution_count": 18,
                    "metadata": {},
                    "output_type": "execute_result"
                }
            ],
            "source": [
                "merged_df = data.merge(top_k_items, on='itemID', how='inner')\n",
                "merged_df['prediction'] = merged_df['rating'] * merged_df['rec_score']\n",
                "top_k = merged_df[['userID', 'rec_itemID', 'prediction']]\n",
                "top_k.rename(columns={'rec_itemID': 'itemID'}, inplace=True)\n",
                "top_k.sort_values([\"userID\", \"prediction\"], ascending=[True, False]).head()"
            ]
        },
        {
            "cell_type": "code",
            "execution_count": 19,
            "metadata": {},
            "outputs": [
                {
                    "data": {
                        "text/html": [
                            "<div>\n",
                            "<style scoped>\n",
                            "    .dataframe tbody tr th:only-of-type {\n",
                            "        vertical-align: middle;\n",
                            "    }\n",
                            "\n",
                            "    .dataframe tbody tr th {\n",
                            "        vertical-align: top;\n",
                            "    }\n",
                            "\n",
                            "    .dataframe thead th {\n",
                            "        text-align: right;\n",
                            "    }\n",
                            "</style>\n",
                            "<table border=\"1\" class=\"dataframe\">\n",
                            "  <thead>\n",
                            "    <tr style=\"text-align: right;\">\n",
                            "      <th></th>\n",
                            "      <th>userID</th>\n",
                            "      <th>itemID</th>\n",
                            "      <th>prediction</th>\n",
                            "    </tr>\n",
                            "  </thead>\n",
                            "  <tbody>\n",
                            "    <tr>\n",
                            "      <th>0</th>\n",
                            "      <td>1</td>\n",
                            "      <td>31447</td>\n",
                            "      <td>1.160394</td>\n",
                            "    </tr>\n",
                            "    <tr>\n",
                            "      <th>1</th>\n",
                            "      <td>1</td>\n",
                            "      <td>2103</td>\n",
                            "      <td>1.030680</td>\n",
                            "    </tr>\n",
                            "    <tr>\n",
                            "      <th>2</th>\n",
                            "      <td>1</td>\n",
                            "      <td>56</td>\n",
                            "      <td>0.991387</td>\n",
                            "    </tr>\n",
                            "    <tr>\n",
                            "      <th>3</th>\n",
                            "      <td>1</td>\n",
                            "      <td>60</td>\n",
                            "      <td>0.981581</td>\n",
                            "    </tr>\n",
                            "    <tr>\n",
                            "      <th>4</th>\n",
                            "      <td>1</td>\n",
                            "      <td>158</td>\n",
                            "      <td>0.979672</td>\n",
                            "    </tr>\n",
                            "  </tbody>\n",
                            "</table>\n",
                            "</div>"
                        ],
                        "text/plain": [
                            "   userID  itemID  prediction\n",
                            "0       1   31447    1.160394\n",
                            "1       1    2103    1.030680\n",
                            "2       1      56    0.991387\n",
                            "3       1      60    0.981581\n",
                            "4       1     158    0.979672"
                        ]
                    },
                    "execution_count": 19,
                    "metadata": {},
                    "output_type": "execute_result"
                }
            ],
            "source": [
                "filtered_top_k = top_k.merge(train, on=[\"userID\", \"itemID\"], how=\"left\", indicator=True)\n",
                "filtered_top_k = filtered_top_k[filtered_top_k[\"_merge\"] == \"left_only\"].drop(columns=[\"_merge\"])\n",
                "filtered_top_k = filtered_top_k[[\"userID\", \"itemID\", \"prediction\"]]\n",
                "filtered_top_k.head()"
            ]
        },
        {
            "cell_type": "code",
            "execution_count": 20,
            "metadata": {},
            "outputs": [
                {
                    "data": {
                        "text/html": [
                            "<div>\n",
                            "<style scoped>\n",
                            "    .dataframe tbody tr th:only-of-type {\n",
                            "        vertical-align: middle;\n",
                            "    }\n",
                            "\n",
                            "    .dataframe tbody tr th {\n",
                            "        vertical-align: top;\n",
                            "    }\n",
                            "\n",
                            "    .dataframe thead th {\n",
                            "        text-align: right;\n",
                            "    }\n",
                            "</style>\n",
                            "<table border=\"1\" class=\"dataframe\">\n",
                            "  <thead>\n",
                            "    <tr style=\"text-align: right;\">\n",
                            "      <th></th>\n",
                            "      <th>userID</th>\n",
                            "      <th>itemID</th>\n",
                            "      <th>prediction</th>\n",
                            "    </tr>\n",
                            "  </thead>\n",
                            "  <tbody>\n",
                            "    <tr>\n",
                            "      <th>450</th>\n",
                            "      <td>1</td>\n",
                            "      <td>3795</td>\n",
                            "      <td>2.482931</td>\n",
                            "    </tr>\n",
                            "    <tr>\n",
                            "      <th>1105</th>\n",
                            "      <td>2</td>\n",
                            "      <td>6667</td>\n",
                            "      <td>2.644084</td>\n",
                            "    </tr>\n",
                            "    <tr>\n",
                            "      <th>2070</th>\n",
                            "      <td>3</td>\n",
                            "      <td>519</td>\n",
                            "      <td>2.716976</td>\n",
                            "    </tr>\n",
                            "    <tr>\n",
                            "      <th>2250</th>\n",
                            "      <td>4</td>\n",
                            "      <td>836</td>\n",
                            "      <td>2.419135</td>\n",
                            "    </tr>\n",
                            "    <tr>\n",
                            "      <th>2530</th>\n",
                            "      <td>5</td>\n",
                            "      <td>635</td>\n",
                            "      <td>3.062231</td>\n",
                            "    </tr>\n",
                            "  </tbody>\n",
                            "</table>\n",
                            "</div>"
                        ],
                        "text/plain": [
                            "      userID  itemID  prediction\n",
                            "450        1    3795    2.482931\n",
                            "1105       2    6667    2.644084\n",
                            "2070       3     519    2.716976\n",
                            "2250       4     836    2.419135\n",
                            "2530       5     635    3.062231"
                        ]
                    },
                    "execution_count": 20,
                    "metadata": {},
                    "output_type": "execute_result"
                }
            ],
            "source": [
                "idx = filtered_top_k.groupby(\"userID\")[\"prediction\"].idxmax()\n",
                "top = filtered_top_k.loc[idx]\n",
                "top.head()"
            ]
        },
        {
            "cell_type": "code",
            "execution_count": 21,
            "metadata": {},
            "outputs": [],
            "source": [
                "args = [test, top_k]\n",
                "kwargs = dict(\n",
                "    col_user=\"userID\",\n",
                "    col_item=\"itemID\",\n",
                "    col_rating=\"rating\",\n",
                "    col_prediction=\"prediction\",\n",
                "    relevancy_method=\"top_k\",\n",
                "    k=TOP_K\n",
                ")\n",
                "\n",
                "eval_map = map_at_k(*args, **kwargs)\n",
                "eval_ndcg_at_k = ndcg_at_k(*args, **kwargs)\n",
                "eval_precision_at_k = precision_at_k(*args, col_user=\"userID\", col_item=\"itemID\", col_rating=\"rating\", col_prediction=\"prediction\", k=TOP_K)\n",
                "eval_recall_at_k = recall_at_k(*args, col_user=\"userID\", col_item=\"itemID\", col_rating=\"rating\", col_prediction=\"prediction\", k=TOP_K)"
            ]
        },
        {
            "cell_type": "code",
            "execution_count": 22,
            "metadata": {},
            "outputs": [],
            "source": [
                "args1 = [test, top]\n",
                "kwargs1 = dict(\n",
                "    col_user=\"userID\",\n",
                "    col_item=\"itemID\",\n",
                "    col_rating=\"rating\",\n",
                "    col_prediction=\"prediction\",\n",
                "    relevancy_method=\"top_k\",\n",
                "    k=1\n",
                ")\n",
                "eval_ndcg = ndcg_at_k(*args1, **kwargs1)\n",
                "eval_precision = precision_at_k(*args, col_user=\"userID\", col_item=\"itemID\", col_rating=\"rating\", col_prediction=\"prediction\", k=1)\n",
                "eval_recall = recall_at_k(*args, col_user=\"userID\", col_item=\"itemID\", col_rating=\"rating\", col_prediction=\"prediction\", k=1)"
            ]
        },
        {
            "cell_type": "code",
            "execution_count": 23,
            "metadata": {},
            "outputs": [],
            "source": [
                "eval_mae = mae(test, top_k)\n",
                "eval_rmse = rmse(test, top_k)"
            ]
        },
        {
            "cell_type": "code",
            "execution_count": 24,
            "metadata": {},
            "outputs": [],
            "source": [
                "# eval_novelty = novelty(train, top)\n",
                "# eval_historical_item_novelty = historical_item_novelty(train, top)\n",
                "# eval_user_item_serendipity = user_item_serendipity(train, top)\n",
                "# eval_user_serendipity = user_serendipity(train, top)\n",
                "# eval_serendipity = serendipity(train, top)\n",
                "# eval_catalog_coverage = catalog_coverage(train, top)\n",
                "# eval_distributional_coverage = distributional_coverage(train, top)"
            ]
        },
        {
            "cell_type": "code",
            "execution_count": 25,
            "metadata": {},
            "outputs": [],
            "source": [
                "# eval_f1 = f1(test, top)\n",
                "# eval_mrr = mrr(test, top)\n",
                "# eval_accuracy = accuracy(test, top)\n",
                "# eval_user_coverage = user_coverage(test, top)\n",
                "# eval_item_coverage = item_coverage(test, top)"
            ]
        },
        {
            "cell_type": "code",
            "execution_count": 26,
            "metadata": {},
            "outputs": [
                {
                    "name": "stdout",
                    "output_type": "stream",
                    "text": [
                        "Precision:\t0.022229\n",
                        "Precision@K:\t0.203616\n",
                        "Recall:\t0.000902\n",
                        "Recall@K:\t0.009068\n",
                        "MAE:\t2.486453\n",
                        "RMSE:\t2.684313\n",
                        "NDCG:\t0.030528\n"
                    ]
                }
            ],
            "source": [
                "print(\"Precision:\\t%f\" % eval_precision,\n",
                "      \"Precision@K:\\t%f\" % eval_precision_at_k,\n",
                "      \"Recall:\\t%f\" % eval_recall,\n",
                "      \"Recall@K:\\t%f\" % eval_recall_at_k,\n",
                "      \"MAE:\\t%f\" % eval_mae,\n",
                "      \"RMSE:\\t%f\" % eval_rmse,\n",
                "      \"NDCG:\\t%f\" % eval_ndcg,\n",
                "      # \"Novelty:\\t%f\" % eval_novelty,\n",
                "      # \"Serendipity:\\t%f\" % eval_serendipity,\n",
                "      # \"Catalog coverage:\\t%f\" % eval_catalog_coverage,\n",
                "      # \"Distributional coverage:\\t%f\" % eval_distributional_coverage,\n",
                "      sep='\\n')"
            ]
        },
        {
            "cell_type": "code",
            "execution_count": 27,
            "metadata": {},
            "outputs": [],
            "source": [
                "# print(\"F1:\\t%f\" % eval_f1,\n",
                "#       \"Accuracy:\\t%f\" % eval_accuracy,\n",
                "#       \"User covarage:\\t%f\" % eval_user_coverage,\n",
                "#       \"Item coverage:\\t%f\" % eval_item_coverage,\n",
                "#       sep='\\n')"
            ]
        },
        {
            "cell_type": "code",
            "execution_count": 28,
            "metadata": {},
            "outputs": [],
            "source": [
                "# eval_historical_item_novelty"
            ]
        },
        {
            "cell_type": "code",
            "execution_count": 29,
            "metadata": {},
            "outputs": [],
            "source": [
                "# eval_user_item_serendipity"
            ]
        },
        {
            "cell_type": "code",
            "execution_count": 30,
            "metadata": {},
            "outputs": [],
            "source": [
                "# eval_user_serendipity"
            ]
        }
    ],
    "metadata": {
        "kernelspec": {
            "display_name": "conda_python3.9",
            "language": "python",
            "name": "python3"
        },
        "language_info": {
            "codemirror_mode": {
                "name": "ipython",
                "version": 3
            },
            "file_extension": ".py",
            "mimetype": "text/x-python",
            "name": "python",
            "nbconvert_exporter": "python",
            "pygments_lexer": "ipython3",
            "version": "3.9.21"
        }
    },
    "nbformat": 4,
    "nbformat_minor": 2
}
