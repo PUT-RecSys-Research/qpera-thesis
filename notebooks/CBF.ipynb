{
    "cells": [
        {
            "cell_type": "markdown",
            "metadata": {},
            "source": [
                "<i>Copyright (c) Recommenders contributors.</i>\n",
                "\n",
                "<i>Licensed under the MIT License.</i>"
            ]
        },
        {
            "cell_type": "markdown",
            "metadata": {},
            "source": [
                "# TF-IDF Content-Based Recommendation\n"
            ]
        },
        {
            "cell_type": "code",
            "execution_count": 16,
            "metadata": {
                "scrolled": true
            },
            "outputs": [
                {
                    "name": "stdout",
                    "output_type": "stream",
                    "text": [
                        "System version: 3.9.21 (main, Dec 11 2024, 16:35:24) [MSC v.1929 64 bit (AMD64)]\n"
                    ]
                }
            ],
            "source": [
                "import sys\n",
                "import logging\n",
                "import scipy\n",
                "import numpy as np\n",
                "import pandas as pd\n",
                "import dataset_loader\n",
                "\n",
                "from recommenders.models.tfidf.tfidf_utils import TfidfRecommender\n",
                "from recommenders.datasets.python_splitters import python_stratified_split\n",
                "from recommenders.datasets import movielens\n",
                "from recommenders.evaluation.python_evaluation import map_at_k, ndcg_at_k, mae, rmse, novelty, historical_item_novelty, user_item_serendipity, user_serendipity, serendipity, catalog_coverage, distributional_coverage\n",
                "from metrics import precision_at_k, recall_at_k, mrr, accuracy, user_coverage, item_coverage\n",
                "\n",
                "# Print version\n",
                "print(f\"System version: {sys.version}\")"
            ]
        },
        {
            "cell_type": "markdown",
            "metadata": {},
            "source": [
                "### 1. Load the dataset into a dataframe\n",
                "Let's begin by loading the metadata file for the dataset into a Pandas dataframe. This file contains metadata about each of the scientific articles included in the full dataset."
            ]
        },
        {
            "cell_type": "code",
            "execution_count": 17,
            "metadata": {},
            "outputs": [],
            "source": [
                "# Top k items to recommend\n",
                "TOP_K = 10"
            ]
        },
        {
            "cell_type": "code",
            "execution_count": 18,
            "metadata": {},
            "outputs": [
                {
                    "name": "stdout",
                    "output_type": "stream",
                    "text": [
                        "(5000, 6)\n",
                        "50\n"
                    ]
                },
                {
                    "data": {
                        "text/html": [
                            "<div>\n",
                            "<style scoped>\n",
                            "    .dataframe tbody tr th:only-of-type {\n",
                            "        vertical-align: middle;\n",
                            "    }\n",
                            "\n",
                            "    .dataframe tbody tr th {\n",
                            "        vertical-align: top;\n",
                            "    }\n",
                            "\n",
                            "    .dataframe thead th {\n",
                            "        text-align: right;\n",
                            "    }\n",
                            "</style>\n",
                            "<table border=\"1\" class=\"dataframe\">\n",
                            "  <thead>\n",
                            "    <tr style=\"text-align: right;\">\n",
                            "      <th></th>\n",
                            "      <th>userID</th>\n",
                            "      <th>itemID</th>\n",
                            "      <th>rating</th>\n",
                            "      <th>timestamp</th>\n",
                            "      <th>title</th>\n",
                            "      <th>genres</th>\n",
                            "    </tr>\n",
                            "  </thead>\n",
                            "  <tbody>\n",
                            "    <tr>\n",
                            "      <th>0</th>\n",
                            "      <td>1</td>\n",
                            "      <td>2</td>\n",
                            "      <td>3.5</td>\n",
                            "      <td>2005-04-02 23:53:47</td>\n",
                            "      <td>Jumanji (1995)</td>\n",
                            "      <td>Adventure|Children|Fantasy</td>\n",
                            "    </tr>\n",
                            "    <tr>\n",
                            "      <th>1</th>\n",
                            "      <td>1</td>\n",
                            "      <td>29</td>\n",
                            "      <td>3.5</td>\n",
                            "      <td>2005-04-02 23:31:16</td>\n",
                            "      <td>City of Lost Children, The (Cité des enfants p...</td>\n",
                            "      <td>Adventure|Drama|Fantasy|Mystery|Sci-Fi</td>\n",
                            "    </tr>\n",
                            "    <tr>\n",
                            "      <th>2</th>\n",
                            "      <td>1</td>\n",
                            "      <td>32</td>\n",
                            "      <td>3.5</td>\n",
                            "      <td>2005-04-02 23:33:39</td>\n",
                            "      <td>Twelve Monkeys (a.k.a. 12 Monkeys) (1995)</td>\n",
                            "      <td>Mystery|Sci-Fi|Thriller</td>\n",
                            "    </tr>\n",
                            "    <tr>\n",
                            "      <th>3</th>\n",
                            "      <td>1</td>\n",
                            "      <td>47</td>\n",
                            "      <td>3.5</td>\n",
                            "      <td>2005-04-02 23:32:07</td>\n",
                            "      <td>Seven (a.k.a. Se7en) (1995)</td>\n",
                            "      <td>Mystery|Thriller</td>\n",
                            "    </tr>\n",
                            "    <tr>\n",
                            "      <th>4</th>\n",
                            "      <td>1</td>\n",
                            "      <td>50</td>\n",
                            "      <td>3.5</td>\n",
                            "      <td>2005-04-02 23:29:40</td>\n",
                            "      <td>Usual Suspects, The (1995)</td>\n",
                            "      <td>Crime|Mystery|Thriller</td>\n",
                            "    </tr>\n",
                            "  </tbody>\n",
                            "</table>\n",
                            "</div>"
                        ],
                        "text/plain": [
                            "   userID  itemID  rating            timestamp  \\\n",
                            "0       1       2     3.5  2005-04-02 23:53:47   \n",
                            "1       1      29     3.5  2005-04-02 23:31:16   \n",
                            "2       1      32     3.5  2005-04-02 23:33:39   \n",
                            "3       1      47     3.5  2005-04-02 23:32:07   \n",
                            "4       1      50     3.5  2005-04-02 23:29:40   \n",
                            "\n",
                            "                                               title  \\\n",
                            "0                                     Jumanji (1995)   \n",
                            "1  City of Lost Children, The (Cité des enfants p...   \n",
                            "2          Twelve Monkeys (a.k.a. 12 Monkeys) (1995)   \n",
                            "3                        Seven (a.k.a. Se7en) (1995)   \n",
                            "4                         Usual Suspects, The (1995)   \n",
                            "\n",
                            "                                   genres  \n",
                            "0              Adventure|Children|Fantasy  \n",
                            "1  Adventure|Drama|Fantasy|Mystery|Sci-Fi  \n",
                            "2                 Mystery|Sci-Fi|Thriller  \n",
                            "3                        Mystery|Thriller  \n",
                            "4                  Crime|Mystery|Thriller  "
                        ]
                    },
                    "execution_count": 18,
                    "metadata": {},
                    "output_type": "execute_result"
                }
            ],
            "source": [
                "data = dataset_loader.loader(\"movielens\", want_col=[\"userID\", \"itemID\", \"rating\", \"timestamp\", 'title', 'genres'], num_rows=5000)\n",
                "print(data.shape)\n",
                "print(data['userID'].nunique())\n",
                "\n",
                "# Convert the float precision to 32-bit in order to reduce memory consumption\n",
                "data[\"rating\"] = data[\"rating\"].astype(np.float32)\n",
                "data.head()\n"
            ]
        },
        {
            "cell_type": "markdown",
            "metadata": {},
            "source": [
                "### 4. Instantiate the recommender\n",
                "All functions for data preparation and recommendation are contained within the **TfidfRecommender** class we have imported. Prior to running these functions, we must create an object of this class.\n",
                "\n",
                "Select one of the following tokenization methods to use in the model:\n",
                "\n",
                "| tokenization_method | Description                                                                                                                      |\n",
                "|:--------------------|:---------------------------------------------------------------------------------------------------------------------------------|\n",
                "| 'none'              | No tokenization is applied. Each word is considered a token.                                                                     |\n",
                "| 'nltk'              | Simple stemming is applied using NLTK.                                                                                           |\n",
                "| 'bert'              | HuggingFace BERT word tokenization ('bert-base-cased') is applied.                                                               |\n",
                "| 'scibert'           | SciBERT word tokenization ('allenai/scibert_scivocab_cased') is applied.<br>This is recommended for scientific journal articles. |"
            ]
        },
        {
            "cell_type": "code",
            "execution_count": 19,
            "metadata": {},
            "outputs": [],
            "source": [
                "# Create the recommender object\n",
                "recommender = TfidfRecommender(id_col='itemID', tokenization_method='bert')"
            ]
        },
        {
            "cell_type": "markdown",
            "metadata": {},
            "source": [
                "### 5. Prepare text for use in the TF-IDF recommender"
            ]
        },
        {
            "cell_type": "code",
            "execution_count": 20,
            "metadata": {},
            "outputs": [
                {
                    "data": {
                        "text/html": [
                            "<div>\n",
                            "<style scoped>\n",
                            "    .dataframe tbody tr th:only-of-type {\n",
                            "        vertical-align: middle;\n",
                            "    }\n",
                            "\n",
                            "    .dataframe tbody tr th {\n",
                            "        vertical-align: top;\n",
                            "    }\n",
                            "\n",
                            "    .dataframe thead th {\n",
                            "        text-align: right;\n",
                            "    }\n",
                            "</style>\n",
                            "<table border=\"1\" class=\"dataframe\">\n",
                            "  <thead>\n",
                            "    <tr style=\"text-align: right;\">\n",
                            "      <th></th>\n",
                            "      <th>userID</th>\n",
                            "      <th>itemID</th>\n",
                            "      <th>rating</th>\n",
                            "      <th>timestamp</th>\n",
                            "      <th>title</th>\n",
                            "      <th>genres</th>\n",
                            "    </tr>\n",
                            "  </thead>\n",
                            "  <tbody>\n",
                            "    <tr>\n",
                            "      <th>0</th>\n",
                            "      <td>1</td>\n",
                            "      <td>2</td>\n",
                            "      <td>3.5</td>\n",
                            "      <td>2005-04-02 23:53:47</td>\n",
                            "      <td>Jumanji (1995)</td>\n",
                            "      <td>Adventure Children Fantasy</td>\n",
                            "    </tr>\n",
                            "    <tr>\n",
                            "      <th>1</th>\n",
                            "      <td>1</td>\n",
                            "      <td>29</td>\n",
                            "      <td>3.5</td>\n",
                            "      <td>2005-04-02 23:31:16</td>\n",
                            "      <td>City of Lost Children, The (Cité des enfants p...</td>\n",
                            "      <td>Adventure Drama Fantasy Mystery Sci-Fi</td>\n",
                            "    </tr>\n",
                            "    <tr>\n",
                            "      <th>2</th>\n",
                            "      <td>1</td>\n",
                            "      <td>32</td>\n",
                            "      <td>3.5</td>\n",
                            "      <td>2005-04-02 23:33:39</td>\n",
                            "      <td>Twelve Monkeys (a.k.a. 12 Monkeys) (1995)</td>\n",
                            "      <td>Mystery Sci-Fi Thriller</td>\n",
                            "    </tr>\n",
                            "    <tr>\n",
                            "      <th>3</th>\n",
                            "      <td>1</td>\n",
                            "      <td>47</td>\n",
                            "      <td>3.5</td>\n",
                            "      <td>2005-04-02 23:32:07</td>\n",
                            "      <td>Seven (a.k.a. Se7en) (1995)</td>\n",
                            "      <td>Mystery Thriller</td>\n",
                            "    </tr>\n",
                            "    <tr>\n",
                            "      <th>4</th>\n",
                            "      <td>1</td>\n",
                            "      <td>50</td>\n",
                            "      <td>3.5</td>\n",
                            "      <td>2005-04-02 23:29:40</td>\n",
                            "      <td>Usual Suspects, The (1995)</td>\n",
                            "      <td>Crime Mystery Thriller</td>\n",
                            "    </tr>\n",
                            "  </tbody>\n",
                            "</table>\n",
                            "</div>"
                        ],
                        "text/plain": [
                            "   userID  itemID  rating            timestamp  \\\n",
                            "0       1       2     3.5  2005-04-02 23:53:47   \n",
                            "1       1      29     3.5  2005-04-02 23:31:16   \n",
                            "2       1      32     3.5  2005-04-02 23:33:39   \n",
                            "3       1      47     3.5  2005-04-02 23:32:07   \n",
                            "4       1      50     3.5  2005-04-02 23:29:40   \n",
                            "\n",
                            "                                               title  \\\n",
                            "0                                     Jumanji (1995)   \n",
                            "1  City of Lost Children, The (Cité des enfants p...   \n",
                            "2          Twelve Monkeys (a.k.a. 12 Monkeys) (1995)   \n",
                            "3                        Seven (a.k.a. Se7en) (1995)   \n",
                            "4                         Usual Suspects, The (1995)   \n",
                            "\n",
                            "                                   genres  \n",
                            "0              Adventure Children Fantasy  \n",
                            "1  Adventure Drama Fantasy Mystery Sci-Fi  \n",
                            "2                 Mystery Sci-Fi Thriller  \n",
                            "3                        Mystery Thriller  \n",
                            "4                  Crime Mystery Thriller  "
                        ]
                    },
                    "execution_count": 20,
                    "metadata": {},
                    "output_type": "execute_result"
                }
            ],
            "source": [
                "data['genres'] = data['genres'].str.replace('|', ' ', regex=False)\n",
                "data.head()"
            ]
        },
        {
            "cell_type": "code",
            "execution_count": 21,
            "metadata": {},
            "outputs": [
                {
                    "data": {
                        "text/html": [
                            "<div>\n",
                            "<style scoped>\n",
                            "    .dataframe tbody tr th:only-of-type {\n",
                            "        vertical-align: middle;\n",
                            "    }\n",
                            "\n",
                            "    .dataframe tbody tr th {\n",
                            "        vertical-align: top;\n",
                            "    }\n",
                            "\n",
                            "    .dataframe thead th {\n",
                            "        text-align: right;\n",
                            "    }\n",
                            "</style>\n",
                            "<table border=\"1\" class=\"dataframe\">\n",
                            "  <thead>\n",
                            "    <tr style=\"text-align: right;\">\n",
                            "      <th></th>\n",
                            "      <th>itemID</th>\n",
                            "      <th>title</th>\n",
                            "      <th>genres</th>\n",
                            "      <th>cleaned_text</th>\n",
                            "    </tr>\n",
                            "  </thead>\n",
                            "  <tbody>\n",
                            "    <tr>\n",
                            "      <th>0</th>\n",
                            "      <td>2</td>\n",
                            "      <td>Jumanji (1995)</td>\n",
                            "      <td>Adventure Children Fantasy</td>\n",
                            "      <td>Jumanji 1995 Adventure Children Fantasy</td>\n",
                            "    </tr>\n",
                            "    <tr>\n",
                            "      <th>1</th>\n",
                            "      <td>29</td>\n",
                            "      <td>City of Lost Children, The (Cité des enfants p...</td>\n",
                            "      <td>Adventure Drama Fantasy Mystery Sci-Fi</td>\n",
                            "      <td>City of Lost Children The Cité des enfants per...</td>\n",
                            "    </tr>\n",
                            "    <tr>\n",
                            "      <th>2</th>\n",
                            "      <td>32</td>\n",
                            "      <td>Twelve Monkeys (a.k.a. 12 Monkeys) (1995)</td>\n",
                            "      <td>Mystery Sci-Fi Thriller</td>\n",
                            "      <td>Twelve Monkeys aka 12 Monkeys 1995 Mystery Sci...</td>\n",
                            "    </tr>\n",
                            "    <tr>\n",
                            "      <th>3</th>\n",
                            "      <td>47</td>\n",
                            "      <td>Seven (a.k.a. Se7en) (1995)</td>\n",
                            "      <td>Mystery Thriller</td>\n",
                            "      <td>Seven aka Se7en 1995 Mystery Thriller</td>\n",
                            "    </tr>\n",
                            "    <tr>\n",
                            "      <th>4</th>\n",
                            "      <td>50</td>\n",
                            "      <td>Usual Suspects, The (1995)</td>\n",
                            "      <td>Crime Mystery Thriller</td>\n",
                            "      <td>Usual Suspects The 1995 Crime Mystery Thriller</td>\n",
                            "    </tr>\n",
                            "  </tbody>\n",
                            "</table>\n",
                            "</div>"
                        ],
                        "text/plain": [
                            "   itemID                                              title  \\\n",
                            "0       2                                     Jumanji (1995)   \n",
                            "1      29  City of Lost Children, The (Cité des enfants p...   \n",
                            "2      32          Twelve Monkeys (a.k.a. 12 Monkeys) (1995)   \n",
                            "3      47                        Seven (a.k.a. Se7en) (1995)   \n",
                            "4      50                         Usual Suspects, The (1995)   \n",
                            "\n",
                            "                                   genres  \\\n",
                            "0              Adventure Children Fantasy   \n",
                            "1  Adventure Drama Fantasy Mystery Sci-Fi   \n",
                            "2                 Mystery Sci-Fi Thriller   \n",
                            "3                        Mystery Thriller   \n",
                            "4                  Crime Mystery Thriller   \n",
                            "\n",
                            "                                        cleaned_text  \n",
                            "0            Jumanji 1995 Adventure Children Fantasy  \n",
                            "1  City of Lost Children The Cité des enfants per...  \n",
                            "2  Twelve Monkeys aka 12 Monkeys 1995 Mystery Sci...  \n",
                            "3              Seven aka Se7en 1995 Mystery Thriller  \n",
                            "4     Usual Suspects The 1995 Crime Mystery Thriller  "
                        ]
                    },
                    "execution_count": 21,
                    "metadata": {},
                    "output_type": "execute_result"
                }
            ],
            "source": [
                "df_clean = data.drop(columns=['userID', 'rating', 'timestamp'])\n",
                "df_clean = df_clean.drop_duplicates(subset=['itemID'])\n",
                "cols_to_clean = ['title','genres']\n",
                "clean_col = 'cleaned_text'\n",
                "df_clean = recommender.clean_dataframe(df_clean, cols_to_clean, clean_col)\n",
                "df_clean.head()"
            ]
        },
        {
            "cell_type": "code",
            "execution_count": 22,
            "metadata": {},
            "outputs": [
                {
                    "data": {
                        "text/plain": [
                            "2090"
                        ]
                    },
                    "execution_count": 22,
                    "metadata": {},
                    "output_type": "execute_result"
                }
            ],
            "source": [
                "len(df_clean)"
            ]
        },
        {
            "cell_type": "code",
            "execution_count": 23,
            "metadata": {},
            "outputs": [
                {
                    "data": {
                        "text/html": [
                            "<div>\n",
                            "<style scoped>\n",
                            "    .dataframe tbody tr th:only-of-type {\n",
                            "        vertical-align: middle;\n",
                            "    }\n",
                            "\n",
                            "    .dataframe tbody tr th {\n",
                            "        vertical-align: top;\n",
                            "    }\n",
                            "\n",
                            "    .dataframe thead th {\n",
                            "        text-align: right;\n",
                            "    }\n",
                            "</style>\n",
                            "<table border=\"1\" class=\"dataframe\">\n",
                            "  <thead>\n",
                            "    <tr style=\"text-align: right;\">\n",
                            "      <th></th>\n",
                            "      <th>itemID</th>\n",
                            "      <th>title</th>\n",
                            "      <th>genres</th>\n",
                            "      <th>cleaned_text</th>\n",
                            "    </tr>\n",
                            "  </thead>\n",
                            "  <tbody>\n",
                            "    <tr>\n",
                            "      <th>0</th>\n",
                            "      <td>2</td>\n",
                            "      <td>Jumanji (1995)</td>\n",
                            "      <td>Adventure Children Fantasy</td>\n",
                            "      <td>Jumanji 1995 Adventure Children Fantasy</td>\n",
                            "    </tr>\n",
                            "    <tr>\n",
                            "      <th>1</th>\n",
                            "      <td>29</td>\n",
                            "      <td>City of Lost Children, The (Cité des enfants p...</td>\n",
                            "      <td>Adventure Drama Fantasy Mystery Sci-Fi</td>\n",
                            "      <td>City of Lost Children The Cité des enfants per...</td>\n",
                            "    </tr>\n",
                            "    <tr>\n",
                            "      <th>2</th>\n",
                            "      <td>32</td>\n",
                            "      <td>Twelve Monkeys (a.k.a. 12 Monkeys) (1995)</td>\n",
                            "      <td>Mystery Sci-Fi Thriller</td>\n",
                            "      <td>Twelve Monkeys aka 12 Monkeys 1995 Mystery Sci...</td>\n",
                            "    </tr>\n",
                            "    <tr>\n",
                            "      <th>3</th>\n",
                            "      <td>47</td>\n",
                            "      <td>Seven (a.k.a. Se7en) (1995)</td>\n",
                            "      <td>Mystery Thriller</td>\n",
                            "      <td>Seven aka Se7en 1995 Mystery Thriller</td>\n",
                            "    </tr>\n",
                            "    <tr>\n",
                            "      <th>4</th>\n",
                            "      <td>50</td>\n",
                            "      <td>Usual Suspects, The (1995)</td>\n",
                            "      <td>Crime Mystery Thriller</td>\n",
                            "      <td>Usual Suspects The 1995 Crime Mystery Thriller</td>\n",
                            "    </tr>\n",
                            "  </tbody>\n",
                            "</table>\n",
                            "</div>"
                        ],
                        "text/plain": [
                            "   itemID                                              title  \\\n",
                            "0       2                                     Jumanji (1995)   \n",
                            "1      29  City of Lost Children, The (Cité des enfants p...   \n",
                            "2      32          Twelve Monkeys (a.k.a. 12 Monkeys) (1995)   \n",
                            "3      47                        Seven (a.k.a. Se7en) (1995)   \n",
                            "4      50                         Usual Suspects, The (1995)   \n",
                            "\n",
                            "                                   genres  \\\n",
                            "0              Adventure Children Fantasy   \n",
                            "1  Adventure Drama Fantasy Mystery Sci-Fi   \n",
                            "2                 Mystery Sci-Fi Thriller   \n",
                            "3                        Mystery Thriller   \n",
                            "4                  Crime Mystery Thriller   \n",
                            "\n",
                            "                                        cleaned_text  \n",
                            "0            Jumanji 1995 Adventure Children Fantasy  \n",
                            "1  City of Lost Children The Cité des enfants per...  \n",
                            "2  Twelve Monkeys aka 12 Monkeys 1995 Mystery Sci...  \n",
                            "3              Seven aka Se7en 1995 Mystery Thriller  \n",
                            "4     Usual Suspects The 1995 Crime Mystery Thriller  "
                        ]
                    },
                    "execution_count": 23,
                    "metadata": {},
                    "output_type": "execute_result"
                }
            ],
            "source": [
                "df_clean = df_clean.reset_index(drop=True)\n",
                "df_clean.head()"
            ]
        },
        {
            "cell_type": "code",
            "execution_count": 24,
            "metadata": {},
            "outputs": [],
            "source": [
                "header = {\n",
                "    \"col_user\": \"userID\",\n",
                "    \"col_item\": \"itemID\",\n",
                "    \"col_rating\": \"rating\",\n",
                "    \"col_timestamp\": \"timestamp\",\n",
                "    \"col_title\": \"title\",\n",
                "    \"col_genres\": \"genres\",\n",
                "    \"col_year\": \"year\",\n",
                "    \"col_prediction\": \"prediction\",\n",
                "}"
            ]
        },
        {
            "cell_type": "code",
            "execution_count": 25,
            "metadata": {},
            "outputs": [],
            "source": [
                "train, test = python_stratified_split(\n",
                "    data, ratio=0.75, col_user=header[\"col_user\"], col_item=header[\"col_item\"], seed=42\n",
                ")"
            ]
        },
        {
            "cell_type": "code",
            "execution_count": 26,
            "metadata": {},
            "outputs": [
                {
                    "data": {
                        "text/html": [
                            "<div>\n",
                            "<style scoped>\n",
                            "    .dataframe tbody tr th:only-of-type {\n",
                            "        vertical-align: middle;\n",
                            "    }\n",
                            "\n",
                            "    .dataframe tbody tr th {\n",
                            "        vertical-align: top;\n",
                            "    }\n",
                            "\n",
                            "    .dataframe thead th {\n",
                            "        text-align: right;\n",
                            "    }\n",
                            "</style>\n",
                            "<table border=\"1\" class=\"dataframe\">\n",
                            "  <thead>\n",
                            "    <tr style=\"text-align: right;\">\n",
                            "      <th></th>\n",
                            "      <th>userID</th>\n",
                            "      <th>itemID</th>\n",
                            "      <th>rating</th>\n",
                            "      <th>timestamp</th>\n",
                            "      <th>title</th>\n",
                            "      <th>genres</th>\n",
                            "      <th>cleaned_text</th>\n",
                            "    </tr>\n",
                            "  </thead>\n",
                            "  <tbody>\n",
                            "    <tr>\n",
                            "      <th>72</th>\n",
                            "      <td>1</td>\n",
                            "      <td>2140</td>\n",
                            "      <td>4.0</td>\n",
                            "      <td>2005-04-02 23:48:25</td>\n",
                            "      <td>Dark Crystal, The (1982)</td>\n",
                            "      <td>Adventure Fantasy</td>\n",
                            "      <td>Dark Crystal The 1982 Adventure Fantasy</td>\n",
                            "    </tr>\n",
                            "    <tr>\n",
                            "      <th>128</th>\n",
                            "      <td>1</td>\n",
                            "      <td>4915</td>\n",
                            "      <td>3.0</td>\n",
                            "      <td>2005-04-02 23:54:36</td>\n",
                            "      <td>Beastmaster, The (1982)</td>\n",
                            "      <td>Action Adventure Fantasy</td>\n",
                            "      <td>Beastmaster The 1982 Action Adventure Fantasy</td>\n",
                            "    </tr>\n",
                            "    <tr>\n",
                            "      <th>171</th>\n",
                            "      <td>1</td>\n",
                            "      <td>8636</td>\n",
                            "      <td>4.5</td>\n",
                            "      <td>2005-04-02 23:44:53</td>\n",
                            "      <td>Spider-Man 2 (2004)</td>\n",
                            "      <td>Action Adventure Sci-Fi IMAX</td>\n",
                            "      <td>SpiderMan 2 2004 Action Adventure SciFi IMAX</td>\n",
                            "    </tr>\n",
                            "    <tr>\n",
                            "      <th>10</th>\n",
                            "      <td>1</td>\n",
                            "      <td>293</td>\n",
                            "      <td>4.0</td>\n",
                            "      <td>2005-04-02 23:31:43</td>\n",
                            "      <td>Léon: The Professional (a.k.a. The Professiona...</td>\n",
                            "      <td>Action Crime Drama Thriller</td>\n",
                            "      <td>Léon The Professional aka The Professional Léo...</td>\n",
                            "    </tr>\n",
                            "    <tr>\n",
                            "      <th>98</th>\n",
                            "      <td>1</td>\n",
                            "      <td>3000</td>\n",
                            "      <td>3.5</td>\n",
                            "      <td>2005-04-02 23:29:29</td>\n",
                            "      <td>Princess Mononoke (Mononoke-hime) (1997)</td>\n",
                            "      <td>Action Adventure Animation Drama Fantasy</td>\n",
                            "      <td>Princess Mononoke Mononokehime 1997 Action Adv...</td>\n",
                            "    </tr>\n",
                            "  </tbody>\n",
                            "</table>\n",
                            "</div>"
                        ],
                        "text/plain": [
                            "     userID  itemID  rating            timestamp  \\\n",
                            "72        1    2140     4.0  2005-04-02 23:48:25   \n",
                            "128       1    4915     3.0  2005-04-02 23:54:36   \n",
                            "171       1    8636     4.5  2005-04-02 23:44:53   \n",
                            "10        1     293     4.0  2005-04-02 23:31:43   \n",
                            "98        1    3000     3.5  2005-04-02 23:29:29   \n",
                            "\n",
                            "                                                 title  \\\n",
                            "72                            Dark Crystal, The (1982)   \n",
                            "128                            Beastmaster, The (1982)   \n",
                            "171                                Spider-Man 2 (2004)   \n",
                            "10   Léon: The Professional (a.k.a. The Professiona...   \n",
                            "98            Princess Mononoke (Mononoke-hime) (1997)   \n",
                            "\n",
                            "                                       genres  \\\n",
                            "72                          Adventure Fantasy   \n",
                            "128                  Action Adventure Fantasy   \n",
                            "171              Action Adventure Sci-Fi IMAX   \n",
                            "10                Action Crime Drama Thriller   \n",
                            "98   Action Adventure Animation Drama Fantasy   \n",
                            "\n",
                            "                                          cleaned_text  \n",
                            "72             Dark Crystal The 1982 Adventure Fantasy  \n",
                            "128      Beastmaster The 1982 Action Adventure Fantasy  \n",
                            "171       SpiderMan 2 2004 Action Adventure SciFi IMAX  \n",
                            "10   Léon The Professional aka The Professional Léo...  \n",
                            "98   Princess Mononoke Mononokehime 1997 Action Adv...  "
                        ]
                    },
                    "execution_count": 26,
                    "metadata": {},
                    "output_type": "execute_result"
                }
            ],
            "source": [
                "train = recommender.clean_dataframe(train, cols_to_clean, clean_col)\n",
                "train.head()"
            ]
        },
        {
            "cell_type": "markdown",
            "metadata": {},
            "source": [
                "Let's also tokenize the cleaned text for use in the TF-IDF model. The tokens are stored within our TfidfRecommender object."
            ]
        },
        {
            "cell_type": "code",
            "execution_count": 27,
            "metadata": {},
            "outputs": [],
            "source": [
                "# Tokenize text with tokenization_method specified in class instantiation\n",
                "tf, vectors_tokenized = recommender.tokenize_text(df_clean, text_col=\"cleaned_text\")"
            ]
        },
        {
            "cell_type": "markdown",
            "metadata": {},
            "source": [
                "### 6. Recommend articles using TF-IDF\n",
                "Let's now fit the recommender model to the processed data (tokens) and retrieve the top k recommended articles.\n",
                "\n",
                "When creating our object, we specified k=5 so the `recommend_top_k_items` function will return the top 5 recommendations for each public domain article."
            ]
        },
        {
            "cell_type": "code",
            "execution_count": 28,
            "metadata": {
                "scrolled": true
            },
            "outputs": [
                {
                    "name": "stdout",
                    "output_type": "stream",
                    "text": [
                        "['ju', 'man', 'ji', '1995', 'adventure', 'children', 'fantasy', 'ju man', 'man ji', 'ji 1995']\n"
                    ]
                }
            ],
            "source": [
                "# Fit the TF-IDF vectorizer\n",
                "recommender.fit(tf, vectors_tokenized)\n",
                "tokens = recommender.get_tokens()\n",
                "print(list(tokens.keys())[:10])\n"
            ]
        },
        {
            "cell_type": "code",
            "execution_count": 29,
            "metadata": {},
            "outputs": [
                {
                    "data": {
                        "text/plain": [
                            "15191"
                        ]
                    },
                    "execution_count": 29,
                    "metadata": {},
                    "output_type": "execute_result"
                }
            ],
            "source": [
                "len(tokens)"
            ]
        },
        {
            "cell_type": "code",
            "execution_count": 30,
            "metadata": {},
            "outputs": [
                {
                    "data": {
                        "text/html": [
                            "<div>\n",
                            "<style scoped>\n",
                            "    .dataframe tbody tr th:only-of-type {\n",
                            "        vertical-align: middle;\n",
                            "    }\n",
                            "\n",
                            "    .dataframe tbody tr th {\n",
                            "        vertical-align: top;\n",
                            "    }\n",
                            "\n",
                            "    .dataframe thead th {\n",
                            "        text-align: right;\n",
                            "    }\n",
                            "</style>\n",
                            "<table border=\"1\" class=\"dataframe\">\n",
                            "  <thead>\n",
                            "    <tr style=\"text-align: right;\">\n",
                            "      <th></th>\n",
                            "      <th>itemID</th>\n",
                            "      <th>rec_rank</th>\n",
                            "      <th>rec_score</th>\n",
                            "      <th>rec_itemID</th>\n",
                            "    </tr>\n",
                            "  </thead>\n",
                            "  <tbody>\n",
                            "    <tr>\n",
                            "      <th>3266</th>\n",
                            "      <td>550</td>\n",
                            "      <td>2</td>\n",
                            "      <td>1.000000</td>\n",
                            "      <td>289</td>\n",
                            "    </tr>\n",
                            "    <tr>\n",
                            "      <th>3265</th>\n",
                            "      <td>550</td>\n",
                            "      <td>1</td>\n",
                            "      <td>1.000000</td>\n",
                            "      <td>550</td>\n",
                            "    </tr>\n",
                            "    <tr>\n",
                            "      <th>9445</th>\n",
                            "      <td>289</td>\n",
                            "      <td>1</td>\n",
                            "      <td>1.000000</td>\n",
                            "      <td>550</td>\n",
                            "    </tr>\n",
                            "    <tr>\n",
                            "      <th>9446</th>\n",
                            "      <td>289</td>\n",
                            "      <td>2</td>\n",
                            "      <td>1.000000</td>\n",
                            "      <td>289</td>\n",
                            "    </tr>\n",
                            "    <tr>\n",
                            "      <th>2165</th>\n",
                            "      <td>252</td>\n",
                            "      <td>1</td>\n",
                            "      <td>1.000000</td>\n",
                            "      <td>550</td>\n",
                            "    </tr>\n",
                            "    <tr>\n",
                            "      <th>...</th>\n",
                            "      <td>...</td>\n",
                            "      <td>...</td>\n",
                            "      <td>...</td>\n",
                            "      <td>...</td>\n",
                            "    </tr>\n",
                            "    <tr>\n",
                            "      <th>9330</th>\n",
                            "      <td>125916</td>\n",
                            "      <td>1</td>\n",
                            "      <td>0.020885</td>\n",
                            "      <td>4745</td>\n",
                            "    </tr>\n",
                            "    <tr>\n",
                            "      <th>9331</th>\n",
                            "      <td>125916</td>\n",
                            "      <td>2</td>\n",
                            "      <td>0.011637</td>\n",
                            "      <td>1292</td>\n",
                            "    </tr>\n",
                            "    <tr>\n",
                            "      <th>9332</th>\n",
                            "      <td>125916</td>\n",
                            "      <td>3</td>\n",
                            "      <td>0.010832</td>\n",
                            "      <td>279</td>\n",
                            "    </tr>\n",
                            "    <tr>\n",
                            "      <th>9333</th>\n",
                            "      <td>125916</td>\n",
                            "      <td>4</td>\n",
                            "      <td>0.010518</td>\n",
                            "      <td>175</td>\n",
                            "    </tr>\n",
                            "    <tr>\n",
                            "      <th>9334</th>\n",
                            "      <td>125916</td>\n",
                            "      <td>5</td>\n",
                            "      <td>0.010467</td>\n",
                            "      <td>67</td>\n",
                            "    </tr>\n",
                            "  </tbody>\n",
                            "</table>\n",
                            "<p>10450 rows × 4 columns</p>\n",
                            "</div>"
                        ],
                        "text/plain": [
                            "      itemID  rec_rank  rec_score  rec_itemID\n",
                            "3266     550         2   1.000000         289\n",
                            "3265     550         1   1.000000         550\n",
                            "9445     289         1   1.000000         550\n",
                            "9446     289         2   1.000000         289\n",
                            "2165     252         1   1.000000         550\n",
                            "...      ...       ...        ...         ...\n",
                            "9330  125916         1   0.020885        4745\n",
                            "9331  125916         2   0.011637        1292\n",
                            "9332  125916         3   0.010832         279\n",
                            "9333  125916         4   0.010518         175\n",
                            "9334  125916         5   0.010467          67\n",
                            "\n",
                            "[10450 rows x 4 columns]"
                        ]
                    },
                    "execution_count": 30,
                    "metadata": {},
                    "output_type": "execute_result"
                }
            ],
            "source": [
                "top_k_items = recommender.recommend_top_k_items(df_clean, k=5)\n",
                "top_k_items.sort_values(\"rec_score\", ascending=False)"
            ]
        },
        {
            "cell_type": "code",
            "execution_count": 31,
            "metadata": {},
            "outputs": [
                {
                    "name": "stderr",
                    "output_type": "stream",
                    "text": [
                        "C:\\Users\\julia\\AppData\\Local\\Temp\\ipykernel_13460\\892789179.py:4: SettingWithCopyWarning: \n",
                        "A value is trying to be set on a copy of a slice from a DataFrame\n",
                        "\n",
                        "See the caveats in the documentation: https://pandas.pydata.org/pandas-docs/stable/user_guide/indexing.html#returning-a-view-versus-a-copy\n",
                        "  top_k.rename(columns={'rec_itemID': 'itemID'}, inplace=True)\n"
                    ]
                },
                {
                    "data": {
                        "text/html": [
                            "<div>\n",
                            "<style scoped>\n",
                            "    .dataframe tbody tr th:only-of-type {\n",
                            "        vertical-align: middle;\n",
                            "    }\n",
                            "\n",
                            "    .dataframe tbody tr th {\n",
                            "        vertical-align: top;\n",
                            "    }\n",
                            "\n",
                            "    .dataframe thead th {\n",
                            "        text-align: right;\n",
                            "    }\n",
                            "</style>\n",
                            "<table border=\"1\" class=\"dataframe\">\n",
                            "  <thead>\n",
                            "    <tr style=\"text-align: right;\">\n",
                            "      <th></th>\n",
                            "      <th>userID</th>\n",
                            "      <th>itemID</th>\n",
                            "      <th>prediction</th>\n",
                            "    </tr>\n",
                            "  </thead>\n",
                            "  <tbody>\n",
                            "    <tr>\n",
                            "      <th>595</th>\n",
                            "      <td>1</td>\n",
                            "      <td>4886</td>\n",
                            "      <td>1.995398</td>\n",
                            "    </tr>\n",
                            "    <tr>\n",
                            "      <th>365</th>\n",
                            "      <td>1</td>\n",
                            "      <td>3479</td>\n",
                            "      <td>1.972219</td>\n",
                            "    </tr>\n",
                            "    <tr>\n",
                            "      <th>530</th>\n",
                            "      <td>1</td>\n",
                            "      <td>2143</td>\n",
                            "      <td>1.972219</td>\n",
                            "    </tr>\n",
                            "    <tr>\n",
                            "      <th>596</th>\n",
                            "      <td>1</td>\n",
                            "      <td>53121</td>\n",
                            "      <td>1.958034</td>\n",
                            "    </tr>\n",
                            "    <tr>\n",
                            "      <th>535</th>\n",
                            "      <td>1</td>\n",
                            "      <td>8580</td>\n",
                            "      <td>1.940257</td>\n",
                            "    </tr>\n",
                            "  </tbody>\n",
                            "</table>\n",
                            "</div>"
                        ],
                        "text/plain": [
                            "     userID  itemID  prediction\n",
                            "595       1    4886    1.995398\n",
                            "365       1    3479    1.972219\n",
                            "530       1    2143    1.972219\n",
                            "596       1   53121    1.958034\n",
                            "535       1    8580    1.940257"
                        ]
                    },
                    "execution_count": 31,
                    "metadata": {},
                    "output_type": "execute_result"
                }
            ],
            "source": [
                "merged_df = data.merge(top_k_items, on='itemID', how='inner')\n",
                "merged_df['prediction'] = merged_df['rating'] * merged_df['rec_score']\n",
                "top_k = merged_df[['userID', 'rec_itemID', 'prediction']]\n",
                "top_k.rename(columns={'rec_itemID': 'itemID'}, inplace=True)\n",
                "top_k.sort_values([\"userID\", \"prediction\"], ascending=[True, False]).head()"
            ]
        },
        {
            "cell_type": "code",
            "execution_count": 32,
            "metadata": {},
            "outputs": [
                {
                    "data": {
                        "text/html": [
                            "<div>\n",
                            "<style scoped>\n",
                            "    .dataframe tbody tr th:only-of-type {\n",
                            "        vertical-align: middle;\n",
                            "    }\n",
                            "\n",
                            "    .dataframe tbody tr th {\n",
                            "        vertical-align: top;\n",
                            "    }\n",
                            "\n",
                            "    .dataframe thead th {\n",
                            "        text-align: right;\n",
                            "    }\n",
                            "</style>\n",
                            "<table border=\"1\" class=\"dataframe\">\n",
                            "  <thead>\n",
                            "    <tr style=\"text-align: right;\">\n",
                            "      <th></th>\n",
                            "      <th>userID</th>\n",
                            "      <th>itemID</th>\n",
                            "      <th>prediction</th>\n",
                            "    </tr>\n",
                            "  </thead>\n",
                            "  <tbody>\n",
                            "    <tr>\n",
                            "      <th>0</th>\n",
                            "      <td>1</td>\n",
                            "      <td>158</td>\n",
                            "      <td>1.049850</td>\n",
                            "    </tr>\n",
                            "    <tr>\n",
                            "      <th>1</th>\n",
                            "      <td>1</td>\n",
                            "      <td>60</td>\n",
                            "      <td>1.014141</td>\n",
                            "    </tr>\n",
                            "    <tr>\n",
                            "      <th>2</th>\n",
                            "      <td>1</td>\n",
                            "      <td>8</td>\n",
                            "      <td>0.756539</td>\n",
                            "    </tr>\n",
                            "    <tr>\n",
                            "      <th>3</th>\n",
                            "      <td>1</td>\n",
                            "      <td>2093</td>\n",
                            "      <td>0.596716</td>\n",
                            "    </tr>\n",
                            "    <tr>\n",
                            "      <th>5</th>\n",
                            "      <td>1</td>\n",
                            "      <td>4874</td>\n",
                            "      <td>0.799001</td>\n",
                            "    </tr>\n",
                            "  </tbody>\n",
                            "</table>\n",
                            "</div>"
                        ],
                        "text/plain": [
                            "   userID  itemID  prediction\n",
                            "0       1     158    1.049850\n",
                            "1       1      60    1.014141\n",
                            "2       1       8    0.756539\n",
                            "3       1    2093    0.596716\n",
                            "5       1    4874    0.799001"
                        ]
                    },
                    "execution_count": 32,
                    "metadata": {},
                    "output_type": "execute_result"
                }
            ],
            "source": [
                "filtered_top_k = top_k.merge(train, on=[\"userID\", \"itemID\"], how=\"left\", indicator=True)\n",
                "filtered_top_k = filtered_top_k[filtered_top_k[\"_merge\"] == \"left_only\"].drop(columns=[\"_merge\"])\n",
                "filtered_top_k = filtered_top_k[[\"userID\", \"itemID\", \"prediction\"]]\n",
                "filtered_top_k.head()"
            ]
        },
        {
            "cell_type": "code",
            "execution_count": 33,
            "metadata": {},
            "outputs": [
                {
                    "data": {
                        "text/html": [
                            "<div>\n",
                            "<style scoped>\n",
                            "    .dataframe tbody tr th:only-of-type {\n",
                            "        vertical-align: middle;\n",
                            "    }\n",
                            "\n",
                            "    .dataframe tbody tr th {\n",
                            "        vertical-align: top;\n",
                            "    }\n",
                            "\n",
                            "    .dataframe thead th {\n",
                            "        text-align: right;\n",
                            "    }\n",
                            "</style>\n",
                            "<table border=\"1\" class=\"dataframe\">\n",
                            "  <thead>\n",
                            "    <tr style=\"text-align: right;\">\n",
                            "      <th></th>\n",
                            "      <th>userID</th>\n",
                            "      <th>itemID</th>\n",
                            "      <th>prediction</th>\n",
                            "    </tr>\n",
                            "  </thead>\n",
                            "  <tbody>\n",
                            "    <tr>\n",
                            "      <th>595</th>\n",
                            "      <td>1</td>\n",
                            "      <td>4886</td>\n",
                            "      <td>1.995398</td>\n",
                            "    </tr>\n",
                            "    <tr>\n",
                            "      <th>915</th>\n",
                            "      <td>2</td>\n",
                            "      <td>4638</td>\n",
                            "      <td>2.235275</td>\n",
                            "    </tr>\n",
                            "    <tr>\n",
                            "      <th>2070</th>\n",
                            "      <td>3</td>\n",
                            "      <td>519</td>\n",
                            "      <td>2.767191</td>\n",
                            "    </tr>\n",
                            "    <tr>\n",
                            "      <th>2250</th>\n",
                            "      <td>4</td>\n",
                            "      <td>95</td>\n",
                            "      <td>2.264449</td>\n",
                            "    </tr>\n",
                            "    <tr>\n",
                            "      <th>2525</th>\n",
                            "      <td>5</td>\n",
                            "      <td>4498</td>\n",
                            "      <td>2.105869</td>\n",
                            "    </tr>\n",
                            "  </tbody>\n",
                            "</table>\n",
                            "</div>"
                        ],
                        "text/plain": [
                            "      userID  itemID  prediction\n",
                            "595        1    4886    1.995398\n",
                            "915        2    4638    2.235275\n",
                            "2070       3     519    2.767191\n",
                            "2250       4      95    2.264449\n",
                            "2525       5    4498    2.105869"
                        ]
                    },
                    "execution_count": 33,
                    "metadata": {},
                    "output_type": "execute_result"
                }
            ],
            "source": [
                "idx = filtered_top_k.groupby(\"userID\")[\"prediction\"].idxmax()\n",
                "top = filtered_top_k.loc[idx]\n",
                "top.head()"
            ]
        },
        {
            "cell_type": "code",
            "execution_count": 34,
            "metadata": {},
            "outputs": [],
            "source": [
                "args = [test, top_k]\n",
                "kwargs = dict(\n",
                "    col_user=\"userID\",\n",
                "    col_item=\"itemID\",\n",
                "    col_rating=\"rating\",\n",
                "    col_prediction=\"prediction\",\n",
                "    relevancy_method=\"top_k\",\n",
                "    k=TOP_K\n",
                ")\n",
                "\n",
                "eval_map = map_at_k(*args, **kwargs)\n",
                "eval_ndcg_at_k = ndcg_at_k(*args, **kwargs)\n",
                "eval_precision_at_k = precision_at_k(*args, col_user=\"userID\", col_item=\"itemID\", col_rating=\"rating\", col_prediction=\"prediction\", k=TOP_K)\n",
                "eval_recall_at_k = recall_at_k(*args, col_user=\"userID\", col_item=\"itemID\", col_rating=\"rating\", col_prediction=\"prediction\", k=TOP_K)"
            ]
        },
        {
            "cell_type": "code",
            "execution_count": 35,
            "metadata": {},
            "outputs": [],
            "source": [
                "args1 = [test, top]\n",
                "kwargs1 = dict(\n",
                "    col_user=\"userID\",\n",
                "    col_item=\"itemID\",\n",
                "    col_rating=\"rating\",\n",
                "    col_prediction=\"prediction\",\n",
                "    relevancy_method=\"top_k\",\n",
                "    k=1\n",
                ")\n",
                "eval_ndcg = ndcg_at_k(*args1, **kwargs1)\n",
                "eval_precision = precision_at_k(*args, col_user=\"userID\", col_item=\"itemID\", col_rating=\"rating\", col_prediction=\"prediction\", k=1)\n",
                "eval_recall = recall_at_k(*args, col_user=\"userID\", col_item=\"itemID\", col_rating=\"rating\", col_prediction=\"prediction\", k=1)"
            ]
        },
        {
            "cell_type": "code",
            "execution_count": 36,
            "metadata": {},
            "outputs": [],
            "source": [
                "eval_mae = mae(test, top_k)\n",
                "eval_rmse = rmse(test, top_k)"
            ]
        },
        {
            "cell_type": "code",
            "execution_count": 37,
            "metadata": {},
            "outputs": [],
            "source": [
                "# eval_novelty = novelty(train, top)\n",
                "# eval_historical_item_novelty = historical_item_novelty(train, top)\n",
                "# eval_user_item_serendipity = user_item_serendipity(train, top)\n",
                "# eval_user_serendipity = user_serendipity(train, top)\n",
                "# eval_serendipity = serendipity(train, top)\n",
                "# eval_catalog_coverage = catalog_coverage(train, top)\n",
                "# eval_distributional_coverage = distributional_coverage(train, top)"
            ]
        },
        {
            "cell_type": "code",
            "execution_count": 38,
            "metadata": {},
            "outputs": [],
            "source": [
                "# eval_f1 = f1(test, top)\n",
                "# eval_mrr = mrr(test, top)\n",
                "# eval_accuracy = accuracy(test, top)\n",
                "# eval_user_coverage = user_coverage(test, top)\n",
                "# eval_item_coverage = item_coverage(test, top)"
            ]
        },
        {
            "cell_type": "code",
            "execution_count": 39,
            "metadata": {},
            "outputs": [
                {
                    "name": "stdout",
                    "output_type": "stream",
                    "text": [
                        "Precision:\t0.060000\n",
                        "Precision@K:\t0.300000\n",
                        "Recall:\t0.002937\n",
                        "Recall@K:\t0.019380\n",
                        "MAE:\t2.863804\n",
                        "RMSE:\t3.049122\n",
                        "NDCG:\t0.080000\n"
                    ]
                }
            ],
            "source": [
                "print(\"Precision:\\t%f\" % eval_precision,\n",
                "      \"Precision@K:\\t%f\" % eval_precision_at_k,\n",
                "      \"Recall:\\t%f\" % eval_recall,\n",
                "      \"Recall@K:\\t%f\" % eval_recall_at_k,\n",
                "      \"MAE:\\t%f\" % eval_mae,\n",
                "      \"RMSE:\\t%f\" % eval_rmse,\n",
                "      \"NDCG:\\t%f\" % eval_ndcg,\n",
                "      # \"Novelty:\\t%f\" % eval_novelty,\n",
                "      # \"Serendipity:\\t%f\" % eval_serendipity,\n",
                "      # \"Catalog coverage:\\t%f\" % eval_catalog_coverage,\n",
                "      # \"Distributional coverage:\\t%f\" % eval_distributional_coverage,\n",
                "      sep='\\n')"
            ]
        },
        {
            "cell_type": "code",
            "execution_count": 40,
            "metadata": {},
            "outputs": [],
            "source": [
                "# print(\"F1:\\t%f\" % eval_f1,\n",
                "#       \"Accuracy:\\t%f\" % eval_accuracy,\n",
                "#       \"User covarage:\\t%f\" % eval_user_coverage,\n",
                "#       \"Item coverage:\\t%f\" % eval_item_coverage,\n",
                "#       sep='\\n')"
            ]
        },
        {
            "cell_type": "code",
            "execution_count": 41,
            "metadata": {},
            "outputs": [],
            "source": [
                "# eval_historical_item_novelty"
            ]
        },
        {
            "cell_type": "code",
            "execution_count": 42,
            "metadata": {},
            "outputs": [],
            "source": [
                "# eval_user_item_serendipity"
            ]
        },
        {
            "cell_type": "code",
            "execution_count": 43,
            "metadata": {},
            "outputs": [],
            "source": [
                "# eval_user_serendipity"
            ]
        }
    ],
    "metadata": {
        "kernelspec": {
            "display_name": "conda_python3.9",
            "language": "python",
            "name": "python3"
        },
        "language_info": {
            "codemirror_mode": {
                "name": "ipython",
                "version": 3
            },
            "file_extension": ".py",
            "mimetype": "text/x-python",
            "name": "python",
            "nbconvert_exporter": "python",
            "pygments_lexer": "ipython3",
            "version": "3.9.21"
        }
    },
    "nbformat": 4,
    "nbformat_minor": 2
}
